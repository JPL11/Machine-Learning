{
  "nbformat": 4,
  "nbformat_minor": 0,
  "metadata": {
    "colab": {
      "provenance": [],
      "machine_shape": "hm",
      "gpuType": "L4"
    },
    "kernelspec": {
      "name": "python3",
      "display_name": "Python 3"
    },
    "language_info": {
      "name": "python"
    },
    "accelerator": "GPU"
  },
  "cells": [
    {
      "cell_type": "code",
      "source": [
        "import numpy as np\n",
        "import pandas as pd\n",
        "import matplotlib.pyplot as plt\n",
        "import tensorflow as tf\n",
        "from tensorflow.keras.models import Model, Sequential, load_model\n",
        "from tensorflow.keras.layers import Input, Dense, Dropout\n",
        "from tensorflow.keras.optimizers import Adam\n",
        "from tensorflow.keras.callbacks import ModelCheckpoint\n",
        "from sklearn.model_selection import train_test_split\n",
        "from sklearn.metrics import roc_curve, auc\n",
        "import os\n",
        "import datetime\n",
        "import time\n",
        "from collections import defaultdict\n",
        "import multiprocessing\n",
        "from concurrent.futures import ProcessPoolExecutor\n",
        "import sys\n",
        "from pathlib import Path\n",
        "\n",
        "# For model conversion\n",
        "from tensorflow.python.framework import graph_util\n",
        "from tensorflow.python.framework import graph_io\n",
        "from tensorflow.keras import backend as K"
      ],
      "metadata": {
        "id": "DIcV2UPi2oxE"
      },
      "execution_count": 1,
      "outputs": []
    },
    {
      "cell_type": "code",
      "source": [
        "def load_events(file, max_events=None):\n",
        "    \"\"\"Load DVS events from a text file or uploaded file object with optimized batch parsing.\"\"\"\n",
        "    import io\n",
        "\n",
        "    if isinstance(file, str):\n",
        "        # File path from disk\n",
        "        with open(file, 'r') as f:\n",
        "            lines = f.readlines()\n",
        "    elif isinstance(file, io.BytesIO):\n",
        "        # Uploaded file from Colab\n",
        "        lines = file.read().decode('utf-8').splitlines()\n",
        "    else:\n",
        "        raise ValueError(\"Unsupported file type\")\n",
        "\n",
        "    # Skip header\n",
        "    start_idx = 0\n",
        "    for i, line in enumerate(lines):\n",
        "        if line.startswith('#'):\n",
        "            start_idx = i + 1\n",
        "        else:\n",
        "            break\n",
        "\n",
        "    # Process lines in batches\n",
        "    batch_size = 10000\n",
        "    total_events = len(lines) - start_idx\n",
        "    if max_events is not None:\n",
        "        total_events = min(total_events, max_events)\n",
        "\n",
        "    events = []\n",
        "    for i in range(0, total_events, batch_size):\n",
        "        end_idx = min(i + batch_size, total_events)\n",
        "        batch_lines = lines[start_idx + i : start_idx + end_idx]\n",
        "\n",
        "        for line in batch_lines:\n",
        "            try:\n",
        "                t, x, y, p = line.strip().split()\n",
        "                events.append((float(t), int(x), int(y), int(p)))\n",
        "            except ValueError:\n",
        "                continue\n",
        "\n",
        "    print(f\"✅ Loaded {len(events)} events\")\n",
        "    return np.array(events, dtype=[('t', np.float32), ('x', np.int16), ('y', np.int16), ('p', np.int8)])\n"
      ],
      "metadata": {
        "id": "C_sQj1Q3-NmI"
      },
      "execution_count": 24,
      "outputs": []
    },
    {
      "cell_type": "code",
      "source": [
        "def load_events_from_csv(file, max_events=None, cols=None, has_header=True):\n",
        "    \"\"\"\n",
        "    Load DVS events from a CSV file with flexible column mapping.\n",
        "\n",
        "    Args:\n",
        "        file: Path to CSV file (can be Google Drive path)\n",
        "        max_events: Maximum number of events to load (None for all)\n",
        "        cols: List of column indices [t_col, x_col, y_col, p_col] or None to use default mappings\n",
        "        has_header: Whether the CSV has a header row\n",
        "\n",
        "    Returns:\n",
        "        Structured numpy array of events (t, x, y, p)\n",
        "    \"\"\"\n",
        "    try:\n",
        "        # Ensure file exists\n",
        "        if not os.path.exists(file):\n",
        "            raise FileNotFoundError(f\"File not found: {file}\")\n",
        "\n",
        "        # Read CSV file\n",
        "        if has_header:\n",
        "            df = pd.read_csv(file)\n",
        "        else:\n",
        "            df = pd.read_csv(file, header=None)\n",
        "\n",
        "        # Display first few rows to understand the data\n",
        "        print(f\"Preview of data from {file}:\")\n",
        "        print(df.head())\n",
        "\n",
        "        # If columns not specified, try to determine them\n",
        "        if cols is None:\n",
        "            # If columns have standard names\n",
        "            if all(col in df.columns for col in ['t', 'x', 'y', 'p']):\n",
        "                t_col, x_col, y_col, p_col = 't', 'x', 'y', 'p'\n",
        "            # If columns are named with letters (A, B, C...)\n",
        "            elif all(col in df.columns for col in ['A', 'B', 'C', 'D']):\n",
        "                t_col, x_col, y_col, p_col = 'A', 'B', 'C', 'D'\n",
        "            # Otherwise use first four columns\n",
        "            else:\n",
        "                t_col = df.columns[0]\n",
        "                x_col = df.columns[1]\n",
        "                y_col = df.columns[2]\n",
        "                p_col = df.columns[3]\n",
        "                print(f\"Using columns {t_col}, {x_col}, {y_col}, {p_col} for t, x, y, p\")\n",
        "        else:\n",
        "            # Use provided column indices\n",
        "            t_col, x_col, y_col, p_col = [df.columns[i] for i in cols]\n",
        "\n",
        "        # Limit events if needed\n",
        "        if max_events is not None:\n",
        "            df = df.head(max_events)\n",
        "\n",
        "        # Check range of values to determine appropriate data types\n",
        "        t_min, t_max = df[t_col].min(), df[t_col].max()\n",
        "        x_min, x_max = df[x_col].min(), df[x_col].max()\n",
        "        y_min, y_max = df[y_col].min(), df[y_col].max()\n",
        "        p_min, p_max = df[p_col].min(), df[p_col].max()\n",
        "\n",
        "        print(f\"Value ranges:\")\n",
        "        print(f\"  t: {t_min} to {t_max}\")\n",
        "        print(f\"  x: {x_min} to {x_max}\")\n",
        "        print(f\"  y: {y_min} to {y_max}\")\n",
        "        print(f\"  p: {p_min} to {p_max}\")\n",
        "\n",
        "        # Choose appropriate data types based on values\n",
        "        t_type = np.float64  # Use float64 for timestamps\n",
        "        x_type = np.int32 if x_max > 32767 or x_min < -32768 else np.int16\n",
        "        y_type = np.int32 if y_max > 32767 or y_min < -32768 else np.int16\n",
        "        p_type = np.int32 if p_max > 127 or p_min < -128 else np.int8\n",
        "\n",
        "        # Extract events with appropriate types\n",
        "        events = np.array(list(zip(\n",
        "            df[t_col].astype(float),\n",
        "            df[x_col].astype(int),\n",
        "            df[y_col].astype(int),\n",
        "            df[p_col].astype(int)\n",
        "        )), dtype=[('t', t_type), ('x', x_type), ('y', y_type), ('p', p_type)])\n",
        "\n",
        "        print(f\"✅ Loaded {len(events)} events from CSV with data types: t={t_type}, x={x_type}, y={y_type}, p={p_type}\")\n",
        "        return events\n",
        "\n",
        "    except Exception as e:\n",
        "        print(f\"❌ Error loading CSV: {str(e)}\")\n",
        "        raise"
      ],
      "metadata": {
        "id": "OzMhO4S9z1_-"
      },
      "execution_count": 30,
      "outputs": []
    },
    {
      "cell_type": "code",
      "source": [
        "def save_events_to_csv(events, output_file, include_header=True):\n",
        "    \"\"\"\n",
        "    Save DVS events to a CSV file with standard column names.\n",
        "\n",
        "    Args:\n",
        "        events: Structured numpy array of events (t, x, y, p)\n",
        "        output_file: Path to save CSV file (can be Google Drive path)\n",
        "        include_header: Whether to include a header row\n",
        "    \"\"\"\n",
        "    try:\n",
        "        # Create directory if it doesn't exist\n",
        "        output_dir = os.path.dirname(output_file)\n",
        "        if output_dir and not os.path.exists(output_dir):\n",
        "            os.makedirs(output_dir, exist_ok=True)\n",
        "\n",
        "        # Convert structured array to DataFrame with standard column names\n",
        "        df = pd.DataFrame({\n",
        "            't': events['t'],\n",
        "            'x': events['x'],\n",
        "            'y': events['y'],\n",
        "            'p': events['p']\n",
        "        })\n",
        "\n",
        "        # Save to CSV\n",
        "        df.to_csv(output_file, index=False, header=include_header)\n",
        "        print(f\"✅ Saved {len(events)} events to {output_file}\")\n",
        "\n",
        "    except Exception as e:\n",
        "        print(f\"❌ Error saving CSV: {str(e)}\")\n",
        "        raise\n",
        "\n",
        "def convert_txt_to_csv(txt_file, csv_file, has_header=False):\n",
        "    \"\"\"\n",
        "    Convert space-delimited text event file to CSV format with standard column names.\n",
        "\n",
        "    Args:\n",
        "        txt_file: Path to input text file\n",
        "        csv_file: Path to output CSV file\n",
        "        has_header: Whether text file has a header row to preserve\n",
        "    \"\"\"\n",
        "    try:\n",
        "        # Load events from text file\n",
        "        events = load_events(txt_file)\n",
        "\n",
        "        # Save to CSV with standard column names\n",
        "        save_events_to_csv(events, csv_file, include_header=True)\n",
        "        print(f\"✅ Converted {txt_file} to {csv_file}\")\n",
        "\n",
        "    except Exception as e:\n",
        "        print(f\"❌ Error converting file: {str(e)}\")\n",
        "        raise"
      ],
      "metadata": {
        "id": "U9G4p6o8bdyw"
      },
      "execution_count": 32,
      "outputs": []
    },
    {
      "cell_type": "code",
      "source": [
        "# Load files from Google Drive\n",
        "import os\n",
        "\n",
        "# Ask for file format\n",
        "file_format = input(\"Enter file format (txt or csv): \").lower()\n",
        "is_csv = file_format == \"csv\"\n",
        "\n",
        "# Get file paths from Google Drive\n",
        "print(\"Enter the path to your files in Google Drive:\")\n",
        "print(\"Example: /content/drive/MyDrive/DVSTraining\")\n",
        "base_path = input(\"Base path: \")\n",
        "\n",
        "# Get filenames\n",
        "print(\"Enter the filenames (relative to the base path):\")\n",
        "noisy_filename = input(\"Noisy events filename: \")\n",
        "clean_filename = input(\"Clean events filename: \")\n",
        "\n",
        "# Construct full paths\n",
        "noisy_file = os.path.join(base_path, noisy_filename)\n",
        "clean_file = os.path.join(base_path, clean_filename)\n",
        "\n",
        "# Verify files exist\n",
        "if not os.path.exists(noisy_file):\n",
        "    raise FileNotFoundError(f\"File not found: {noisy_file}\")\n",
        "if not os.path.exists(clean_file):\n",
        "    raise FileNotFoundError(f\"File not found: {clean_file}\")\n",
        "\n",
        "print(f\"Loading files:\\n  - {noisy_file}\\n  - {clean_file}\")\n",
        "\n",
        "# Load event data using the appropriate function\n",
        "if is_csv:\n",
        "    # For CSV files, we need to determine which columns to use (first 4 columns)\n",
        "    noisy_events = load_events_from_csv(noisy_file, cols=[0, 1, 2, 3])\n",
        "    clean_events = load_events_from_csv(clean_file, cols=[0, 1, 2, 3])\n",
        "else:\n",
        "    noisy_events = load_events(noisy_file)\n",
        "    clean_events = load_events(clean_file)\n",
        "\n",
        "print(f\"Loaded {len(noisy_events)} noisy events and {len(clean_events)} clean events\")"
      ],
      "metadata": {
        "colab": {
          "base_uri": "https://localhost:8080/"
        },
        "id": "Jt_-FFAUFw_a",
        "outputId": "0eaa35c3-dc72-43b6-b7b3-b3fa51dacb6c"
      },
      "execution_count": 33,
      "outputs": [
        {
          "output_type": "stream",
          "name": "stdout",
          "text": [
            "Enter file format (txt or csv): csv\n",
            "Enter the path to your files in Google Drive:\n",
            "Example: /content/drive/MyDrive/DVSTraining\n",
            "Base path: /content/drive/MyDrive/DVSTraining\n",
            "Enter the filenames (relative to the base path):\n",
            "Noisy events filename: mixedhotellightTI25.csv\n",
            "Clean events filename: amixedhotellightTI25.csv\n",
            "Loading files:\n",
            "  - /content/drive/MyDrive/DVSTraining/mixedhotellightTI25.csv\n",
            "  - /content/drive/MyDrive/DVSTraining/amixedhotellightTI25.csv\n",
            "Preview of data from /content/drive/MyDrive/DVSTraining/mixedhotellightTI25.csv:\n",
            "   -1   60  131  1610903445  1  2090596  5096365  2089490  2120375  2079095  \\\n",
            "0   1  181  158  1610903470  1  2120900  5579979  3438179  3001284  5335559   \n",
            "1   1  172  159  1610903475  1  2114237  5246538  5104601  3884158        0   \n",
            "2  -1  189  154  1610903489  1  2081398  5158468        0  2138209  5492236   \n",
            "3   1  165  159  1610903505  1        0  4325362        0  3118796  5078815   \n",
            "4   1  185  132  1610903509  1        0  2874090  4775733  2123682  5099596   \n",
            "\n",
            "   ...  0.678  0.679  0.680  0.681  0.682  0.683  0.684  0.685  0.686  \\\n",
            "0  ...      0      0      0      0      0      0      0      0      0   \n",
            "1  ...      0      0      0      0      0      0      0      0      0   \n",
            "2  ...      0      0      0      0      0      0      0      0      0   \n",
            "3  ...      0      0      0      0      0      0      0      0      0   \n",
            "4  ...      0      0      0      0      0      0      0      0      0   \n",
            "\n",
            "   1610903445.1  \n",
            "0    1610903445  \n",
            "1    1610903445  \n",
            "2    1610903445  \n",
            "3    1610903445  \n",
            "4    1610903445  \n",
            "\n",
            "[5 rows x 1256 columns]\n",
            "Value ranges:\n",
            "  t: -1 to 1\n",
            "  x: 0 to 345\n",
            "  y: 0 to 259\n",
            "  p: 1607383422 to 1611214820\n",
            "✅ Loaded 79673 events from CSV with data types: t=<class 'numpy.float64'>, x=<class 'numpy.int16'>, y=<class 'numpy.int16'>, p=<class 'numpy.int32'>\n",
            "Preview of data from /content/drive/MyDrive/DVSTraining/amixedhotellightTI25.csv:\n",
            "   265  226  1608383420  0      0.1  2795048  4632868  4529021  4522710  \\\n",
            "0  283  166  1608383425  1  4618167  4615269  4590981  4578587  4563194   \n",
            "1  108  168  1608383425  1  4657548        0  4657799  4620166  4600876   \n",
            "2  263  153  1608383427  1  4648053  4640656  4652750  4638158  4653350   \n",
            "3  114  154  1608383481  1  4590679  4558433  4550100  2868324        0   \n",
            "4  101  134  1608383485  1  4617268  4590781  4566792  2871912  4629264   \n",
            "\n",
            "   4639112  ...    0.244  4541095    0.245  4538226  4650382    0.246  \\\n",
            "0  4647353  ...  2807543  2810416  4654950  2903543  4627263  4645844   \n",
            "1  4647307  ...  4634160  4598177  4628892  4576188        0  4624064   \n",
            "2  4628290  ...  4592280  4577587  4545203  4526912        0  4566681   \n",
            "3        0  ...        0  4654817  2894701  2915390  4585883  4630162   \n",
            "4  4576499  ...  4579086  4546002  4516716  4649531  2905395  2873311   \n",
            "\n",
            "   4533849  4645822    0.247  1608383425  \n",
            "0  4637223  4583654  2904596  1608383425  \n",
            "1  4584384  4560695  4560548  1608383425  \n",
            "2  4580785  4649788  4520915  1608383425  \n",
            "3  4626905  4576987  4535670  1608383425  \n",
            "4  4651639        0  4650796  1608383425  \n",
            "\n",
            "[5 rows x 630 columns]\n",
            "Value ranges:\n",
            "  t: 0 to 345\n",
            "  x: 0 to 259\n",
            "  y: 1608383425 to 1608883405\n",
            "  p: 0 to 1\n",
            "✅ Loaded 35624 events from CSV with data types: t=<class 'numpy.float64'>, x=<class 'numpy.int16'>, y=<class 'numpy.int32'>, p=<class 'numpy.int8'>\n",
            "Loaded 79673 noisy events and 35624 clean events\n"
          ]
        }
      ]
    },
    {
      "cell_type": "code",
      "source": [
        "# define this function at the module level, outside any other function\n",
        "def process_chunk(chunk, height, width):\n",
        "    local_ti = np.zeros((height, width), dtype=np.float32)\n",
        "    local_pol = np.zeros((height, width), dtype=np.float32)\n",
        "\n",
        "    for t, x, y, p in chunk:\n",
        "        if 0 <= x < width and 0 <= y < height:\n",
        "            local_ti[y, x] = t\n",
        "            local_pol[y, x] = 1 if p == 1 else -1\n",
        "\n",
        "    return local_ti, local_pol\n",
        "\n",
        "# Then modify the function to use the global function\n",
        "def build_timestamp_image_parallel(events, width=346, height=260, num_workers=None):\n",
        "    \"\"\"Build a timestamp image with parallel processing for large datasets.\"\"\"\n",
        "    if num_workers is None:\n",
        "        num_workers = max(1, multiprocessing.cpu_count() - 1)\n",
        "\n",
        "    # Initialize timestamp image with zeros\n",
        "    ti = np.zeros((height, width), dtype=np.float32)\n",
        "    polarity_img = np.zeros((height, width), dtype=np.float32)\n",
        "\n",
        "    # Create chunks of events for parallel processing\n",
        "    chunk_size = max(1000, len(events) // (num_workers * 10))\n",
        "    chunks = [events[i:i+chunk_size] for i in range(0, len(events), chunk_size)]\n",
        "\n",
        "    # Process chunks in parallel\n",
        "    if num_workers > 1 and len(chunks) > 1:\n",
        "        # Pass height and width to the function using partial\n",
        "        from functools import partial\n",
        "        process_func = partial(process_chunk, height=height, width=width)\n",
        "\n",
        "        with ProcessPoolExecutor(max_workers=num_workers) as executor:\n",
        "            results = list(executor.map(process_func, chunks))\n",
        "\n",
        "        # Merge results - take the most recent timestamp for each pixel\n",
        "        for local_ti, local_pol in results:\n",
        "            # Update main TI with newer timestamps\n",
        "            mask = (local_ti > 0) & ((ti == 0) | (local_ti > ti))\n",
        "            ti[mask] = local_ti[mask]\n",
        "            polarity_img[mask] = local_pol[mask]\n",
        "    else:\n",
        "        # For small datasets, just process sequentially\n",
        "        for t, x, y, p in events:\n",
        "            if 0 <= x < width and 0 <= y < height:\n",
        "                ti[y, x] = t\n",
        "                polarity_img[y, x] = 1 if p == 1 else -1\n",
        "\n",
        "    return ti, polarity_img"
      ],
      "metadata": {
        "id": "792D-Cvd-mOk"
      },
      "execution_count": 5,
      "outputs": []
    },
    {
      "cell_type": "code",
      "source": [
        "def match_events(noisy_events, clean_events, tau=0.1, spatial_threshold=1):\n",
        "    \"\"\"\n",
        "    Match noisy events to clean events using spatiotemporal correlation as described in the paper.\n",
        "\n",
        "    Args:\n",
        "        noisy_events: Array of noisy events (t, x, y, p)\n",
        "        clean_events: Array of clean events (t, x, y, p)\n",
        "        tau: Time correlation window (in seconds)\n",
        "        spatial_threshold: Maximum spatial distance to consider a match\n",
        "\n",
        "    Returns:\n",
        "        Numpy array of labels (1 for signal, 0 for noise)\n",
        "    \"\"\"\n",
        "    # Build a spatial index for clean events\n",
        "    clean_event_dict = defaultdict(list)\n",
        "    for i, (t, x, y, p) in enumerate(clean_events):\n",
        "        # Store events by their spatial location\n",
        "        clean_event_dict[(x, y)].append((t, p, i))\n",
        "\n",
        "    # Create labels array\n",
        "    labels = np.zeros(len(noisy_events), dtype=np.int8)\n",
        "\n",
        "    # Match each noisy event to clean events\n",
        "    for i, (t_noisy, x_noisy, y_noisy, p_noisy) in enumerate(noisy_events):\n",
        "        # Check nearby pixels within spatial threshold\n",
        "        is_signal = False\n",
        "\n",
        "        # Efficient spatial search using a window around the event\n",
        "        for dx in range(-spatial_threshold, spatial_threshold + 1):\n",
        "            for dy in range(-spatial_threshold, spatial_threshold + 1):\n",
        "                x_clean = x_noisy + dx\n",
        "                y_clean = y_noisy + dy\n",
        "\n",
        "                # Check if there are any clean events at this location\n",
        "                for t_clean, p_clean, _ in clean_event_dict.get((x_clean, y_clean), []):\n",
        "                    # Check temporal correlation\n",
        "                    if abs(t_noisy - t_clean) < tau:\n",
        "                        # Check polarity match\n",
        "                        if p_noisy == p_clean:\n",
        "                            is_signal = True\n",
        "                            break\n",
        "\n",
        "                if is_signal:\n",
        "                    break\n",
        "\n",
        "            if is_signal:\n",
        "                break\n",
        "\n",
        "        # Label the event\n",
        "        labels[i] = 1 if is_signal else 0\n",
        "\n",
        "    return labels"
      ],
      "metadata": {
        "id": "qb9Bm3RNAGHA"
      },
      "execution_count": 6,
      "outputs": []
    },
    {
      "cell_type": "code",
      "source": [
        "def extract_patches_batch(ti, polarity_img, events, patch_size=7, tau=0.1, batch_size=128):\n",
        "    \"\"\"\n",
        "    Extract patches from timestamp image with enhanced polarity encoding as in the paper model.\n",
        "\n",
        "    Args:\n",
        "        ti: Timestamp image\n",
        "        polarity_img: Polarity image\n",
        "        events: Array of events (t, x, y, p)\n",
        "        patch_size: Size of the patch (7x7 as in the paper)\n",
        "        tau: Time correlation window\n",
        "        batch_size: Number of events to process at once (128 as in paper)\n",
        "\n",
        "    Returns:\n",
        "        Array of features for each event with timestamp and polarity channels\n",
        "    \"\"\"\n",
        "    half_size = patch_size // 2\n",
        "    height, width = ti.shape\n",
        "    features_list = []\n",
        "\n",
        "    # Process events in batches\n",
        "    for i in range(0, len(events), batch_size):\n",
        "        batch_events = events[i:i+batch_size]\n",
        "        batch_features = []\n",
        "\n",
        "        for t, x, y, p in batch_events:\n",
        "            # Extract timestamp and polarity patches\n",
        "            if x < half_size or x >= width - half_size or y < half_size or y >= height - half_size:\n",
        "                # Handle events near the border\n",
        "                # Create empty patches\n",
        "                time_patch = np.zeros((patch_size, patch_size), dtype=np.float32)\n",
        "                pol_patch = np.zeros((patch_size, patch_size), dtype=np.float32)\n",
        "\n",
        "                # Calculate patch boundaries and offsets\n",
        "                x_min = max(0, x - half_size)\n",
        "                x_max = min(width, x + half_size + 1)\n",
        "                y_min = max(0, y - half_size)\n",
        "                y_max = min(height, y + half_size + 1)\n",
        "\n",
        "                x_offset = half_size - (x - x_min)\n",
        "                y_offset = half_size - (y - y_min)\n",
        "\n",
        "                # Copy data into patches\n",
        "                patch_width = x_max - x_min\n",
        "                patch_height = y_max - y_min\n",
        "\n",
        "                time_patch[y_offset:y_offset+patch_height, x_offset:x_offset+patch_width] = ti[y_min:y_max, x_min:x_max]\n",
        "                pol_patch[y_offset:y_offset+patch_height, x_offset:x_offset+patch_width] = polarity_img[y_min:y_max, x_min:x_max]\n",
        "            else:\n",
        "                # Extract patches directly for events not near the border\n",
        "                time_patch = ti[y-half_size:y+half_size+1, x-half_size:x+half_size+1].copy()\n",
        "                pol_patch = polarity_img[y-half_size:y+half_size+1, x-half_size:x+half_size+1].copy()\n",
        "\n",
        "            # Normalize the timestamp patch according to equation (4) in the paper\n",
        "            time_diff = t - time_patch\n",
        "            time_patch_norm = np.clip((tau - np.abs(time_diff)) / tau, 0, 1)\n",
        "\n",
        "            # Create separate polarity channels (this is the key change for \"polarity=2\")\n",
        "            # First channel: original polarity values\n",
        "            pol_channel1 = pol_patch.copy()\n",
        "\n",
        "            # Second channel: binary polarity for this event\n",
        "            pol_channel2 = np.zeros_like(pol_patch)\n",
        "            center = patch_size // 2\n",
        "            pol_channel2[center, center] = 1 if p == 1 else -1\n",
        "\n",
        "            # Set polarity to 0 where timestamp is too old\n",
        "            pol_channel1[time_patch_norm == 0] = 0\n",
        "            pol_channel2[time_patch_norm == 0] = 0\n",
        "\n",
        "            # Flatten and combine all channels (creates 147 features)\n",
        "            features = np.hstack((time_patch_norm.flatten(), pol_channel1.flatten(), pol_channel2.flatten()))\n",
        "            batch_features.append(features)\n",
        "\n",
        "        features_list.extend(batch_features)\n",
        "\n",
        "    return np.array(features_list)"
      ],
      "metadata": {
        "id": "fBcdtNBsE-ti"
      },
      "execution_count": 14,
      "outputs": []
    },
    {
      "cell_type": "code",
      "source": [
        "def build_mlpf_model(input_size=147, hidden_units=20):\n",
        "    \"\"\"\n",
        "    Build the MLPF model with parameters from the paper.\n",
        "\n",
        "    Args:\n",
        "        input_size: Size of input features (7x7x3 = 147)\n",
        "        hidden_units: Number of hidden units (20 as in paper)\n",
        "\n",
        "    Returns:\n",
        "        Compiled MLPF model\n",
        "    \"\"\"\n",
        "    inputs = Input(shape=(input_size,), name='input')\n",
        "    x = Dense(hidden_units, activation='softmax', name='fc1')(inputs)  # Using softmax as in their code\n",
        "    x = Dropout(0.3)(x)  # Increased from 0.2 to 0.3 as in their implementation\n",
        "    x = Dense(1, activation='sigmoid', name='output')(x)\n",
        "    model = Model(inputs=inputs, outputs=x, name='MLPF')\n",
        "    return model\n",
        "\n",
        "def train_mlpf(X_train, y_train, X_val, y_val, hidden_units=20, batch_size=128, epochs=5, learning_rate=0.001):\n",
        "    \"\"\"\n",
        "    Train MLPF model with parameters matching the paper.\n",
        "    \"\"\"\n",
        "    input_size = X_train.shape[1]\n",
        "    model = build_mlpf_model(input_size, hidden_units)\n",
        "\n",
        "    # Compile the model with MSE loss and AUC metric\n",
        "    optimizer = Adam(learning_rate=learning_rate)\n",
        "    model.compile(\n",
        "        optimizer=optimizer,\n",
        "        loss='mean_squared_error',  # Use MSE as in the paper\n",
        "        metrics=['accuracy', tf.keras.metrics.AUC(name='auc')]  # Add AUC metric\n",
        "    )\n",
        "    model.summary()\n",
        "\n",
        "    # Callbacks - change to monitor val_auc\n",
        "    checkpoint_path = \"mlpf_model_best.h5\"\n",
        "    checkpoint = ModelCheckpoint(\n",
        "        checkpoint_path,\n",
        "        monitor='val_auc',  # Monitor AUC instead of accuracy\n",
        "        verbose=1,\n",
        "        save_best_only=True,\n",
        "        mode='max'\n",
        "    )\n",
        "\n",
        "    # Calculate class weights to handle imbalance\n",
        "    from sklearn.utils.class_weight import compute_class_weight\n",
        "    import numpy as np\n",
        "    class_weights = compute_class_weight('balanced', classes=np.unique(y_train), y=y_train)\n",
        "    class_weight_dict = {i: class_weights[i] for i in range(len(class_weights))}\n",
        "\n",
        "    # Train the model\n",
        "    start_time = time.time()\n",
        "    history = model.fit(\n",
        "        X_train, y_train,\n",
        "        batch_size=batch_size,\n",
        "        epochs=epochs,  # Increased to 30 as in their training graph\n",
        "        validation_data=(X_val, y_val),\n",
        "        callbacks=[checkpoint],\n",
        "        class_weight=class_weight_dict,  # Add class weights\n",
        "        verbose=1\n",
        "    )\n",
        "    training_time = time.time() - start_time\n",
        "    print(f\"Training completed in {training_time:.2f} seconds\")\n",
        "\n",
        "    return model, history"
      ],
      "metadata": {
        "id": "xW_zkgJyL29T"
      },
      "execution_count": 15,
      "outputs": []
    },
    {
      "cell_type": "code",
      "source": [
        "def convert_h5_to_pb(h5_model_path, output_dir=\"pb_model\"):\n",
        "    import tensorflow as tf\n",
        "    from tensorflow import keras\n",
        "    import os\n",
        "\n",
        "    # Create output directory\n",
        "    if not os.path.exists(output_dir):\n",
        "        os.makedirs(output_dir)\n",
        "\n",
        "    # Load model\n",
        "    model = keras.models.load_model(h5_model_path)\n",
        "\n",
        "    # Convert to SavedModel format\n",
        "    saved_model_path = os.path.join(output_dir, \"saved_model\")\n",
        "    tf.saved_model.save(model, saved_model_path)\n",
        "\n",
        "    # Convert to TFLite (optional)\n",
        "    converter = tf.lite.TFLiteConverter.from_saved_model(saved_model_path)\n",
        "    tflite_model = converter.convert()\n",
        "\n",
        "    # Save the converted model\n",
        "    pb_file_path = os.path.join(output_dir, os.path.basename(h5_model_path).replace(\".h5\", \".pb\"))\n",
        "    with open(pb_file_path, 'wb') as f:\n",
        "        f.write(tflite_model)\n",
        "\n",
        "    print(f\"Model saved as {pb_file_path}\")\n",
        "    return pb_file_path"
      ],
      "metadata": {
        "id": "XYIg86ItMBLU"
      },
      "execution_count": 9,
      "outputs": []
    },
    {
      "cell_type": "code",
      "source": [
        "def calculate_manual_roc_auc(y_true, y_pred):\n",
        "    \"\"\"\n",
        "    Calculate ROC AUC exactly as in the paper implementation.\n",
        "    \"\"\"\n",
        "    from sklearn.metrics import confusion_matrix, auc\n",
        "    import numpy as np\n",
        "\n",
        "    tps = []\n",
        "    fps = []\n",
        "\n",
        "    # Use their specific threshold range and steps\n",
        "    for threshold in range(10, 100, 20):  # 10%, 30%, 50%, 70%, 90%\n",
        "        y_pred_binary = (y_pred > threshold/100).astype(int)\n",
        "        tn, fp, fn, tp = confusion_matrix(y_true, y_pred_binary).ravel()\n",
        "        tpr = tp / (tp + fn) if (tp + fn) > 0 else 0\n",
        "        fpr = fp / (fp + tn) if (fp + tn) > 0 else 0\n",
        "        tps.append(tpr)\n",
        "        fps.append(fpr)\n",
        "\n",
        "    # Additional thresholds at 75% and 99%\n",
        "    for threshold in [75, 99]:\n",
        "        y_pred_binary = (y_pred > threshold/100).astype(int)\n",
        "        tn, fp, fn, tp = confusion_matrix(y_true, y_pred_binary).ravel()\n",
        "        tpr = tp / (tp + fn) if (tp + fn) > 0 else 0\n",
        "        fpr = fp / (fp + tn) if (fp + tn) > 0 else 0\n",
        "        tps.append(tpr)\n",
        "        fps.append(fpr)\n",
        "\n",
        "    # Convert to numpy arrays\n",
        "    tprarr = np.array(tps)\n",
        "    fprarr = np.array(fps)\n",
        "\n",
        "    # Sort by FPR\n",
        "    sorted_indices = np.argsort(fprarr)\n",
        "    sorted_fprarr = fprarr[sorted_indices]\n",
        "    sorted_tprarr = tprarr[sorted_indices]\n",
        "\n",
        "    # Add boundary points after sorting\n",
        "    sorted_fprarr = np.concatenate(([0], sorted_fprarr, [1]))\n",
        "    sorted_tprarr = np.concatenate(([0], sorted_tprarr, [1]))\n",
        "\n",
        "    # Calculate AUC\n",
        "    auc_value = auc(sorted_fprarr, sorted_tprarr)\n",
        "    return auc_value, sorted_fprarr, sorted_tprarr"
      ],
      "metadata": {
        "id": "UKk5q3-Sgokp"
      },
      "execution_count": 16,
      "outputs": []
    },
    {
      "cell_type": "code",
      "source": [
        "def run_denoising_pipeline(noisy_file, clean_file, patch_size=7, tau=0.1, hidden_units=20,\n",
        "                          batch_size=128, epochs=5, convert_to_pb=True,\n",
        "                          input_is_csv=False, csv_cols=[0, 1, 2, 3], save_denoised=False, output_csv=None):\n",
        "    \"\"\"\n",
        "    Complete DVS denoising pipeline with optimizations.\n",
        "\n",
        "    Args:\n",
        "        noisy_file: Path to noisy events file\n",
        "        clean_file: Path to clean events file\n",
        "        patch_size: Size of patch for feature extraction\n",
        "        tau: Time correlation window\n",
        "        hidden_units: Number of hidden units in model\n",
        "        batch_size: Batch size for training\n",
        "        epochs: Number of training epochs\n",
        "        convert_to_pb: Whether to convert model to .pb format\n",
        "        input_is_csv: Whether input files are CSV format\n",
        "        save_denoised: Whether to save denoised events\n",
        "        output_csv: Path to save denoised events (if save_denoised=True)\n",
        "    \"\"\"\n",
        "    # Step 1: Load data\n",
        "    print(\"Loading data...\")\n",
        "    start_time = time.time()\n",
        "    if input_is_csv:\n",
        "        noisy_events = load_events_from_csv(noisy_file)\n",
        "        clean_events = load_events_from_csv(clean_file)\n",
        "    else:\n",
        "        noisy_events = load_events(noisy_file)\n",
        "        clean_events = load_events(clean_file)\n",
        "    print(f\"Data loading completed in {time.time() - start_time:.2f} seconds\")\n",
        "\n",
        "    # Step 2: Build timestamp images\n",
        "    print(\"Building timestamp images...\")\n",
        "    start_time = time.time()\n",
        "    width, height = 346, 260  # DAVIS346 resolution\n",
        "    ti, polarity_img = build_timestamp_image_parallel(noisy_events, width, height)\n",
        "    print(f\"Timestamp image building completed in {time.time() - start_time:.2f} seconds\")\n",
        "\n",
        "    # Step 3: Match events for training\n",
        "    print(\"Matching events for training labels...\")\n",
        "    start_time = time.time()\n",
        "    labels = match_events(noisy_events, clean_events, tau)\n",
        "    print(f\"Event matching completed in {time.time() - start_time:.2f} seconds\")\n",
        "    print(f\"Found {np.sum(labels)} signal events and {len(labels) - np.sum(labels)} noise events\")\n",
        "\n",
        "    # Step 4: Extract patches\n",
        "    print(\"Extracting patches...\")\n",
        "    start_time = time.time()\n",
        "    features = extract_patches_batch(ti, polarity_img, noisy_events, patch_size, tau, batch_size)\n",
        "    print(f\"Patch extraction completed in {time.time() - start_time:.2f} seconds\")\n",
        "\n",
        "    # Step 5: Split data\n",
        "    X_train, X_val, y_train, y_val = train_test_split(features, labels, test_size=0.2, random_state=42)\n",
        "    print(f\"Training set: {X_train.shape[0]} samples, Validation set: {X_val.shape[0]} samples\")\n",
        "\n",
        "    # Step 6: Train model\n",
        "    print(\"Training model...\")\n",
        "    model, history = train_mlpf(X_train, y_train, X_val, y_val, hidden_units, batch_size, epochs)\n",
        "\n",
        "    # Step 7: Evaluate model\n",
        "    print(\"Evaluating model...\")\n",
        "    evaluation_results = model.evaluate(X_val, y_val, verbose=1)\n",
        "\n",
        "    # Handle varying number of metrics\n",
        "    val_loss = evaluation_results[0]  # First value is always the loss\n",
        "    val_metrics = evaluation_results[1:]  # Remaining values are metrics\n",
        "\n",
        "    print(f\"Validation loss: {val_loss:.4f}\")\n",
        "    # Print any additional metrics\n",
        "    metric_names = model.metrics_names[1:]  # Skip 'loss'\n",
        "    for name, value in zip(metric_names, val_metrics):\n",
        "        print(f\"Validation {name}: {value:.4f}\")\n",
        "\n",
        "    # Step 8: Plot ROC curve\n",
        "    y_pred = model.predict(X_val)\n",
        "    # Calculate standard ROC and AUC for comparison\n",
        "    fpr_standard, tpr_standard, thresholds = roc_curve(y_val, y_pred)\n",
        "    roc_auc_standard = auc(fpr_standard, tpr_standard)\n",
        "\n",
        "    # Calculate manual ROC and AUC using the paper's methodology\n",
        "    roc_auc, fps, tps = calculate_manual_roc_auc(y_val, y_pred)\n",
        "\n",
        "    print(f\"Standard AUC: {roc_auc_standard:.4f}\")\n",
        "    print(f\"Manual calculation AUC: {roc_auc:.4f}\")\n",
        "\n",
        "    plt.figure(figsize=(8, 6))\n",
        "    # Plot standard ROC\n",
        "    plt.plot(fpr_standard, tpr_standard, color='blue', lw=2, label=f'Standard ROC (area = {roc_auc_standard:.2f})')\n",
        "    # Plot manual ROC\n",
        "    plt.plot(fps, tps, color='darkorange', lw=2, label=f'Manual ROC (area = {roc_auc:.2f})')\n",
        "    plt.plot([0, 1], [0, 1], color='navy', lw=2, linestyle='--')\n",
        "    plt.xlim([0.0, 1.0])\n",
        "    plt.ylim([0.0, 1.05])\n",
        "    plt.xlabel('False Positive Rate')\n",
        "    plt.ylabel('True Positive Rate')\n",
        "    plt.title('Receiver Operating Characteristic')\n",
        "    plt.legend(loc=\"lower right\")\n",
        "    plt.grid(True)\n",
        "    plt.savefig('roc_curve.pdf')\n",
        "    plt.show()\n",
        "\n",
        "    # Step 9: Save model and convert to pb if requested\n",
        "    model_path = \"mlpf_model_final.h5\"\n",
        "    model.save(model_path)\n",
        "    print(f\"Model saved as {model_path}\")\n",
        "\n",
        "    if convert_to_pb:\n",
        "        pb_path = convert_h5_to_pb(model_path)\n",
        "        print(f\"Model converted to PB format: {pb_path}\")\n",
        "\n",
        "    # Step 10: Save denoised events if requested\n",
        "    if save_denoised and output_csv:\n",
        "        print(f\"Saving denoised events to {output_csv}...\")\n",
        "        denoised_events = denoise_events(noisy_events, model, ti, polarity_img,\n",
        "                                        patch_size, tau, threshold=0.5, batch_size=batch_size)\n",
        "        save_events_to_csv(denoised_events, output_csv)\n",
        "\n",
        "        # Calculate noise reduction statistics\n",
        "        original_count = len(noisy_events)\n",
        "        denoised_count = len(denoised_events)\n",
        "        removed_pct = 100 * (1 - denoised_count/original_count)\n",
        "        print(f\"Original events: {original_count}\")\n",
        "        print(f\"Denoised events: {denoised_count}\")\n",
        "        print(f\"Removed noise: {removed_pct:.2f}%\")\n",
        "\n",
        "    return model, history, roc_auc"
      ],
      "metadata": {
        "id": "IXwOCwAOMDaq"
      },
      "execution_count": 39,
      "outputs": []
    },
    {
      "cell_type": "code",
      "source": [
        "def denoise_events(events, model, ti, polarity_img, patch_size=7, tau=0.1, threshold=0.5, batch_size=128):\n",
        "    \"\"\"\n",
        "    Denoise events using the trained MLPF model with updated polarity handling.\n",
        "    \"\"\"\n",
        "    height, width = ti.shape\n",
        "    denoised_events = []\n",
        "\n",
        "    # Extract patches with enhanced polarity for all events in batches\n",
        "    features = extract_patches_batch(ti, polarity_img, events, patch_size, tau, batch_size)\n",
        "\n",
        "    # Predict in batches\n",
        "    predictions = []\n",
        "    for i in range(0, len(features), batch_size):\n",
        "        batch_features = features[i:i+batch_size]\n",
        "        batch_predictions = model.predict(batch_features, verbose=0)\n",
        "        predictions.extend(batch_predictions)\n",
        "\n",
        "    predictions = np.array(predictions).flatten()\n",
        "\n",
        "    # Filter events based on predictions\n",
        "    for i, (t, x, y, p) in enumerate(events):\n",
        "        if predictions[i] >= threshold:\n",
        "            denoised_events.append((t, x, y, p))\n",
        "\n",
        "            # Update timestamp image and polarity image\n",
        "            if 0 <= x < width and 0 <= y < height:\n",
        "                ti[y, x] = t\n",
        "                polarity_img[y, x] = 1 if p == 1 else -1\n",
        "\n",
        "    return np.array(denoised_events, dtype=[('t', np.float32), ('x', np.int16), ('y', np.int16), ('p', np.int8)])"
      ],
      "metadata": {
        "id": "EzmAcA3uMK5I"
      },
      "execution_count": 18,
      "outputs": []
    },
    {
      "cell_type": "code",
      "source": [
        "def batch_denoise_events_to_csv(input_file, output_file, model_path,\n",
        "                               patch_size=7, tau=0.1, threshold=0.5, batch_size=128,\n",
        "                               is_csv=False, csv_cols=[0, 1, 2, 3], max_events=None):\n",
        "    \"\"\"\n",
        "    Denoise events from a file and save results to CSV.\n",
        "\n",
        "    Args:\n",
        "        input_file: Path to input events file (TXT or CSV)\n",
        "        output_file: Path to output CSV file for denoised events\n",
        "        model_path: Path to trained denoiser model (.h5 file)\n",
        "        patch_size: Size of patch for feature extraction\n",
        "        tau: Time correlation window for normalization\n",
        "        threshold: Classification threshold for denoising\n",
        "        batch_size: Batch size for processing\n",
        "        is_csv: Whether input is CSV format (True) or space-delimited text (False)\n",
        "        max_events: Maximum events to process (None for all)\n",
        "    \"\"\"\n",
        "    import tensorflow as tf\n",
        "    from tensorflow.keras.models import load_model\n",
        "    import time\n",
        "\n",
        "    start_time = time.time()\n",
        "\n",
        "    # Step 1: Load model\n",
        "    print(f\"Loading model from {model_path}...\")\n",
        "    model = load_model(model_path)\n",
        "\n",
        "    # Step 2: Load events\n",
        "    print(f\"Loading events from {input_file}...\")\n",
        "    if is_csv:\n",
        "        events = load_events_from_csv(input_file, max_events)\n",
        "    else:\n",
        "        events = load_events(input_file, max_events)\n",
        "\n",
        "    # Step 3: Build timestamp image\n",
        "    print(\"Building timestamp image...\")\n",
        "    width, height = 346, 260  # DAVIS346 resolution\n",
        "    ti, polarity_img = build_timestamp_image_parallel(events, width, height)\n",
        "\n",
        "    # Step 4: Denoise events\n",
        "    print(\"Denoising events...\")\n",
        "    denoised_events = denoise_events(events, model, ti, polarity_img,\n",
        "                                    patch_size, tau, threshold, batch_size)\n",
        "\n",
        "    # Step 5: Save to CSV\n",
        "    print(f\"Saving denoised events to {output_file}...\")\n",
        "    save_events_to_csv(denoised_events, output_file)\n",
        "\n",
        "    processing_time = time.time() - start_time\n",
        "    original_count = len(events)\n",
        "    denoised_count = len(denoised_events)\n",
        "    removed_pct = 100 * (1 - denoised_count/original_count)\n",
        "\n",
        "    print(f\"Denoising completed in {processing_time:.2f} seconds\")\n",
        "    print(f\"Original events: {original_count}\")\n",
        "    print(f\"Denoised events: {denoised_count}\")\n",
        "    print(f\"Removed noise: {removed_pct:.2f}%\")\n",
        "\n",
        "    return denoised_events"
      ],
      "metadata": {
        "id": "eTOzYOZbc1ft"
      },
      "execution_count": 34,
      "outputs": []
    },
    {
      "cell_type": "code",
      "source": [
        "!cp -r /content/drive/MyDrive/DVSTraining/custom_dataloader /content/"
      ],
      "metadata": {
        "id": "n96YqO1Z6ryp"
      },
      "execution_count": 42,
      "outputs": []
    },
    {
      "cell_type": "code",
      "source": [
        "# Import the custom Dataset class\n",
        "from custom_dataloader.dataset import Dataset\n",
        "from custom_dataloader.dataloader import ti_image_generator, default_collate_fn\n",
        "\n",
        "# DVS Event Dataset implementation\n",
        "class DVSEventDataset(Dataset):\n",
        "    def __init__(self, csv_file, t_col, x_col, y_col, p_col, patch_size=7, tau=0.1, dtype='float32'):\n",
        "        \"\"\"\n",
        "        Dataset for DVS events from CSV file.\n",
        "\n",
        "        Args:\n",
        "            csv_file: Path to CSV file\n",
        "            t_col, x_col, y_col, p_col: Column indices for event data\n",
        "            patch_size: Size of patch for feature extraction\n",
        "            tau: Time correlation window\n",
        "            dtype: Data type for tensors\n",
        "        \"\"\"\n",
        "        super(DVSEventDataset, self).__init__(dtype=dtype)\n",
        "        print(f\"Loading CSV data from {csv_file}...\")\n",
        "\n",
        "        # Read CSV file\n",
        "        self.df = pd.read_csv(csv_file)\n",
        "\n",
        "        # Get column names\n",
        "        self.t_col = self.df.columns[t_col]\n",
        "        self.x_col = self.df.columns[x_col]\n",
        "        self.y_col = self.df.columns[y_col]\n",
        "        self.p_col = self.df.columns[p_col]\n",
        "\n",
        "        print(f\"Using columns: t={self.t_col}, x={self.x_col}, y={self.y_col}, p={self.p_col}\")\n",
        "\n",
        "        # Extract events\n",
        "        self.events = np.array(list(zip(\n",
        "            self.df[self.t_col].astype(float),\n",
        "            self.df[self.x_col].astype(int),\n",
        "            self.df[self.y_col].astype(int),\n",
        "            self.df[self.p_col].astype(int)\n",
        "        )), dtype=[('t', np.float64), ('x', np.int32), ('y', np.int32), ('p', np.int32)])\n",
        "\n",
        "        # Create timestamp and polarity images\n",
        "        self.width = 346\n",
        "        self.height = 260\n",
        "        self.patch_size = patch_size\n",
        "        self.tau = tau\n",
        "        self.half_size = patch_size // 2\n",
        "\n",
        "        # Build timestamp and polarity images\n",
        "        self.ti, self.polarity_img = self._build_timestamp_image()\n",
        "\n",
        "        print(f\"✅ Dataset loaded with {len(self.events)} events\")\n",
        "\n",
        "    def _build_timestamp_image(self):\n",
        "        \"\"\"Build timestamp and polarity images from events.\"\"\"\n",
        "        ti = np.zeros((self.height, self.width), dtype=np.float64)\n",
        "        polarity_img = np.zeros((self.height, self.width), dtype=np.float32)\n",
        "\n",
        "        for t, x, y, p in self.events:\n",
        "            if 0 <= x < self.width and 0 <= y < self.height:\n",
        "                ti[y, x] = t\n",
        "                polarity_img[y, x] = 1 if p > 0 else -1\n",
        "\n",
        "        return ti, polarity_img\n",
        "\n",
        "    def __len__(self):\n",
        "        \"\"\"Return the number of events in the dataset.\"\"\"\n",
        "        return len(self.events)\n",
        "\n",
        "    def __getitem__(self, idx):\n",
        "        \"\"\"Get a sample from the dataset at the given index.\"\"\"\n",
        "        t, x, y, p = self.events[idx]\n",
        "\n",
        "        # Create feature vector (patch)\n",
        "        features = self._extract_patch(t, x, y, p)\n",
        "\n",
        "        # Return dictionary with x features and y label (0 for all in single dataset)\n",
        "        return {\n",
        "            'x': features,\n",
        "            'y': np.array([0], dtype=self.dtype)  # Default label, will be updated when matching\n",
        "        }\n",
        "\n",
        "    def _extract_patch(self, t, x, y, p):\n",
        "        \"\"\"Extract patch around event.\"\"\"\n",
        "        # Handle boundaries\n",
        "        if x < self.half_size or x >= self.width - self.half_size or y < self.half_size or y >= self.height - self.half_size:\n",
        "            # Create empty patches\n",
        "            time_patch = np.zeros((self.patch_size, self.patch_size), dtype=np.float32)\n",
        "            pol_patch = np.zeros((self.patch_size, self.patch_size), dtype=np.float32)\n",
        "\n",
        "            # Calculate patch boundaries and offsets\n",
        "            x_min = max(0, x - self.half_size)\n",
        "            x_max = min(self.width, x + self.half_size + 1)\n",
        "            y_min = max(0, y - self.half_size)\n",
        "            y_max = min(self.height, y + self.half_size + 1)\n",
        "\n",
        "            x_offset = self.half_size - (x - x_min)\n",
        "            y_offset = self.half_size - (y - y_min)\n",
        "\n",
        "            # Copy data into patches\n",
        "            patch_width = x_max - x_min\n",
        "            patch_height = y_max - y_min\n",
        "\n",
        "            time_patch[y_offset:y_offset+patch_height, x_offset:x_offset+patch_width] = self.ti[y_min:y_max, x_min:x_max]\n",
        "            pol_patch[y_offset:y_offset+patch_height, x_offset:x_offset+patch_width] = self.polarity_img[y_min:y_max, x_min:x_max]\n",
        "        else:\n",
        "            # Extract patches directly\n",
        "            time_patch = self.ti[y-self.half_size:y+self.half_size+1, x-self.half_size:x+self.half_size+1].copy()\n",
        "            pol_patch = self.polarity_img[y-self.half_size:y+self.half_size+1, x-self.half_size:x+self.half_size+1].copy()\n",
        "\n",
        "        # Normalize the timestamp patch\n",
        "        time_diff = t - time_patch\n",
        "        time_patch_norm = np.clip((self.tau - np.abs(time_diff)) / self.tau, 0, 1)\n",
        "\n",
        "        # Set the central pixel's polarity\n",
        "        center = self.patch_size // 2\n",
        "        pol_patch[center, center] = 1 if p > 0 else -1\n",
        "\n",
        "        # Create a separate polarity channel for enhanced encoding (like paper)\n",
        "        pol_channel2 = np.zeros_like(pol_patch)\n",
        "        pol_channel2[center, center] = 1 if p > 0 else -1\n",
        "\n",
        "        # Flatten and combine all channels - use 3 channels as in \"polarity=2\" model\n",
        "        features = np.hstack((\n",
        "            time_patch_norm.flatten(),\n",
        "            pol_patch.flatten(),\n",
        "            pol_channel2.flatten()\n",
        "        )).astype(self.dtype)\n",
        "\n",
        "        return features"
      ],
      "metadata": {
        "id": "QaVFKUze6A1e"
      },
      "execution_count": 48,
      "outputs": []
    },
    {
      "cell_type": "code",
      "source": [
        "class MatchedDVSDataset(Dataset):\n",
        "    def __init__(self, noisy_dataset, clean_dataset, tau=1.0, spatial_threshold=2, dtype='float32'):\n",
        "        \"\"\"\n",
        "        Dataset wrapper that matches noisy events with clean events to create labeled data.\n",
        "\n",
        "        Args:\n",
        "            noisy_dataset: DVSEventDataset with noisy events\n",
        "            clean_dataset: DVSEventDataset with clean events\n",
        "            tau: Time correlation window (in seconds)\n",
        "            spatial_threshold: Maximum spatial distance to consider a match\n",
        "            dtype: Data type for tensors\n",
        "        \"\"\"\n",
        "        super(MatchedDVSDataset, self).__init__(dtype=dtype)\n",
        "        self.noisy_dataset = noisy_dataset\n",
        "        self.clean_dataset = clean_dataset\n",
        "        self.tau = tau\n",
        "        self.spatial_threshold = spatial_threshold\n",
        "\n",
        "        # Create labels by matching events\n",
        "        self.labels = self._match_events()\n",
        "        print(f\"Found {np.sum(self.labels)} signal events and {len(self.labels) - np.sum(self.labels)} noise events\")\n",
        "\n",
        "    def __len__(self):\n",
        "        \"\"\"Return the number of events in the dataset.\"\"\"\n",
        "        return len(self.noisy_dataset)\n",
        "\n",
        "    def __getitem__(self, idx):\n",
        "        \"\"\"Get a sample from the dataset with correct label.\"\"\"\n",
        "        sample = self.noisy_dataset[idx]\n",
        "        sample['y'] = np.array([self.labels[idx]], dtype=self.dtype)\n",
        "        return sample\n",
        "\n",
        "    def _match_events(self):\n",
        "        \"\"\"Match noisy events to clean events using spatiotemporal correlation.\"\"\"\n",
        "        # Build a spatial index for clean events\n",
        "        clean_event_dict = defaultdict(list)\n",
        "        for i in range(len(self.clean_dataset)):\n",
        "            t, x, y, p = self.clean_dataset.events[i]\n",
        "            # Store events by their spatial location with some tolerance\n",
        "            for dx in range(-self.spatial_threshold, self.spatial_threshold + 1):\n",
        "                for dy in range(-self.spatial_threshold, self.spatial_threshold + 1):\n",
        "                    clean_event_dict[(x+dx, y+dy)].append((t, p, i))\n",
        "\n",
        "        # Create labels array\n",
        "        labels = np.zeros(len(self.noisy_dataset), dtype=np.int8)\n",
        "\n",
        "        # Match each noisy event to clean events\n",
        "        for i in range(len(self.noisy_dataset)):\n",
        "            t_noisy, x_noisy, y_noisy, p_noisy = self.noisy_dataset.events[i]\n",
        "\n",
        "            # Check if there are any clean events at this location\n",
        "            for t_clean, p_clean, _ in clean_event_dict.get((x_noisy, y_noisy), []):\n",
        "                # Check temporal correlation with larger window\n",
        "                if abs(t_noisy - t_clean) < self.tau:\n",
        "                    # Check polarity match with less strict condition\n",
        "                    # Consider it a match if either both positive or both negative\n",
        "                    if (p_noisy > 0 and p_clean > 0) or (p_noisy <= 0 and p_clean <= 0):\n",
        "                        labels[i] = 1\n",
        "                        break\n",
        "\n",
        "        return labels"
      ],
      "metadata": {
        "id": "3pR8M5op6oRf"
      },
      "execution_count": 44,
      "outputs": []
    },
    {
      "cell_type": "code",
      "source": [
        "def create_datasets_and_train():\n",
        "    \"\"\"\n",
        "    Create datasets and train the model using the custom dataloader.\n",
        "    \"\"\"\n",
        "    # Define CSV column mappings based on visual inspection of data\n",
        "    # These are indices, so they're 0-based\n",
        "    noisy_p_col = 0  # Column \"-1\" has values 1, 1, -1, etc. - likely polarity\n",
        "    noisy_x_col = 1  # Column \"60\" has values in camera coordinate range\n",
        "    noisy_y_col = 2  # Column \"131\" has values in camera coordinate range\n",
        "    noisy_t_col = 3  # Column \"1610903445\" has large values - likely timestamps\n",
        "\n",
        "    clean_x_col = 0  # Column \"265\" has values in camera coordinate range\n",
        "    clean_y_col = 1  # Column \"226\" has values in camera coordinate range\n",
        "    clean_t_col = 2  # Column \"1608383420\" has large values - likely timestamps\n",
        "    clean_p_col = 3  # Column \"0\" has values 1, 1, 1, etc. - likely polarity\n",
        "\n",
        "    # Create datasets\n",
        "    print(\"Creating datasets...\")\n",
        "    noisy_dataset = DVSEventDataset(\n",
        "        noisy_file,\n",
        "        t_col=noisy_t_col,\n",
        "        x_col=noisy_x_col,\n",
        "        y_col=noisy_y_col,\n",
        "        p_col=noisy_p_col,\n",
        "        patch_size=7,\n",
        "        tau=0.1\n",
        "    )\n",
        "\n",
        "    clean_dataset = DVSEventDataset(\n",
        "        clean_file,\n",
        "        t_col=clean_t_col,\n",
        "        x_col=clean_x_col,\n",
        "        y_col=clean_y_col,\n",
        "        p_col=clean_p_col,\n",
        "        patch_size=7,\n",
        "        tau=0.1\n",
        "    )\n",
        "\n",
        "    # Create matched dataset with more relaxed parameters\n",
        "    matched_dataset = MatchedDVSDataset(\n",
        "        noisy_dataset,\n",
        "        clean_dataset,\n",
        "        tau=5.0,  # Much larger window\n",
        "        spatial_threshold=3  # Larger spatial threshold\n",
        "    )\n",
        "\n",
        "    # Split into train and validation sets\n",
        "    from sklearn.model_selection import train_test_split\n",
        "    indices = np.arange(len(matched_dataset))\n",
        "    train_indices, val_indices = train_test_split(indices, test_size=0.2, random_state=42)\n",
        "\n",
        "    # Create data loaders\n",
        "    train_dataset = SubsetDataset(matched_dataset, train_indices)\n",
        "    val_dataset = SubsetDataset(matched_dataset, val_indices)\n",
        "\n",
        "    print(f\"Training set: {len(train_dataset)} samples, Validation set: {len(val_dataset)} samples\")\n",
        "\n",
        "    # Create data generators\n",
        "    train_generator = ti_image_generator(\n",
        "        dataset=train_dataset,\n",
        "        batch_size=128,\n",
        "        shuffle=True,\n",
        "        num_workers=4\n",
        "    )\n",
        "\n",
        "    val_generator = ti_image_generator(\n",
        "        dataset=val_dataset,\n",
        "        batch_size=128,\n",
        "        shuffle=False,\n",
        "        num_workers=4\n",
        "    )\n",
        "\n",
        "    # Build and train model\n",
        "    # Get input dimension from first sample\n",
        "    input_dim = train_dataset[0]['x'].shape[0]\n",
        "\n",
        "    model = build_mlpf_model(input_dim, hidden_units=20)\n",
        "\n",
        "    # Compile model\n",
        "    optimizer = Adam(learning_rate=0.001)\n",
        "    model.compile(\n",
        "        optimizer=optimizer,\n",
        "        loss='mean_squared_error',\n",
        "        metrics=['accuracy', tf.keras.metrics.AUC(name='auc')]\n",
        "    )\n",
        "\n",
        "    # Callbacks\n",
        "    checkpoint_path = os.path.join(output_dir, \"mlpf_model_best.h5\")\n",
        "    checkpoint = ModelCheckpoint(\n",
        "        checkpoint_path,\n",
        "        monitor='val_auc',\n",
        "        verbose=1,\n",
        "        save_best_only=True,\n",
        "        mode='max'\n",
        "    )\n",
        "\n",
        "    # Train model\n",
        "    history = model.fit(\n",
        "        train_generator,\n",
        "        validation_data=val_generator,\n",
        "        epochs=30,\n",
        "        callbacks=[checkpoint],\n",
        "        verbose=1\n",
        "    )\n",
        "\n",
        "    # Load best model\n",
        "    best_model = load_model(checkpoint_path)\n",
        "\n",
        "    return best_model, history, matched_dataset"
      ],
      "metadata": {
        "id": "PIysvxEF7YeF"
      },
      "execution_count": 45,
      "outputs": []
    },
    {
      "cell_type": "code",
      "source": [
        "class SubsetDataset(Dataset):\n",
        "    \"\"\"Dataset to take a subset specified by indices.\"\"\"\n",
        "\n",
        "    def __init__(self, dataset, indices, dtype='float32'):\n",
        "        super(SubsetDataset, self).__init__(dtype=dtype)\n",
        "        self.dataset = dataset\n",
        "        self.indices = indices\n",
        "\n",
        "    def __getitem__(self, idx):\n",
        "        return self.dataset[self.indices[idx]]\n",
        "\n",
        "    def __len__(self):\n",
        "        return len(self.indices)"
      ],
      "metadata": {
        "id": "KheZuDCu7w_T"
      },
      "execution_count": 46,
      "outputs": []
    },
    {
      "cell_type": "code",
      "source": [
        "if __name__ == \"__main__\":\n",
        "    # Get file format from earlier input\n",
        "    is_csv = (file_format == \"csv\")\n",
        "\n",
        "    # CSV parameters if using CSV files\n",
        "    csv_cols = [0, 1, 2, 3]  # Use first 4 columns for t, x, y, p\n",
        "\n",
        "    # Other parameters\n",
        "    patch_size = 7\n",
        "    tau = 0.1\n",
        "    hidden_units = 20\n",
        "    batch_size = 128\n",
        "    epochs = 5\n",
        "    convert_to_pb = True\n",
        "    save_denoised = True\n",
        "    output_csv = 'denoised_events.csv'\n",
        "\n",
        "    # Run the pipeline to train a model\n",
        "    model, history, roc_auc = run_denoising_pipeline(\n",
        "        noisy_file,\n",
        "        clean_file,\n",
        "        patch_size,\n",
        "        tau,\n",
        "        hidden_units,\n",
        "        batch_size,\n",
        "        epochs,\n",
        "        convert_to_pb,\n",
        "        input_is_csv=is_csv,\n",
        "        csv_cols=csv_cols,\n",
        "        save_denoised=save_denoised,\n",
        "        output_csv=output_csv\n",
        "    )\n",
        "    print(f\"Training completed. Model AUC: {roc_auc:.4f}\")"
      ],
      "metadata": {
        "colab": {
          "base_uri": "https://localhost:8080/",
          "height": 1000
        },
        "id": "OpKLCT7nMOBg",
        "outputId": "993dbd08-e94b-4bd5-d51a-6382e9052514"
      },
      "execution_count": 40,
      "outputs": [
        {
          "output_type": "stream",
          "name": "stdout",
          "text": [
            "Loading data...\n",
            "Preview of data from /content/drive/MyDrive/DVSTraining/mixedhotellightTI25.csv:\n",
            "   -1   60  131  1610903445  1  2090596  5096365  2089490  2120375  2079095  \\\n",
            "0   1  181  158  1610903470  1  2120900  5579979  3438179  3001284  5335559   \n",
            "1   1  172  159  1610903475  1  2114237  5246538  5104601  3884158        0   \n",
            "2  -1  189  154  1610903489  1  2081398  5158468        0  2138209  5492236   \n",
            "3   1  165  159  1610903505  1        0  4325362        0  3118796  5078815   \n",
            "4   1  185  132  1610903509  1        0  2874090  4775733  2123682  5099596   \n",
            "\n",
            "   ...  0.678  0.679  0.680  0.681  0.682  0.683  0.684  0.685  0.686  \\\n",
            "0  ...      0      0      0      0      0      0      0      0      0   \n",
            "1  ...      0      0      0      0      0      0      0      0      0   \n",
            "2  ...      0      0      0      0      0      0      0      0      0   \n",
            "3  ...      0      0      0      0      0      0      0      0      0   \n",
            "4  ...      0      0      0      0      0      0      0      0      0   \n",
            "\n",
            "   1610903445.1  \n",
            "0    1610903445  \n",
            "1    1610903445  \n",
            "2    1610903445  \n",
            "3    1610903445  \n",
            "4    1610903445  \n",
            "\n",
            "[5 rows x 1256 columns]\n",
            "Using columns -1, 60, 131, 1610903445 for t, x, y, p\n",
            "Value ranges:\n",
            "  t: -1 to 1\n",
            "  x: 0 to 345\n",
            "  y: 0 to 259\n",
            "  p: 1607383422 to 1611214820\n",
            "✅ Loaded 79673 events from CSV with data types: t=<class 'numpy.float64'>, x=<class 'numpy.int16'>, y=<class 'numpy.int16'>, p=<class 'numpy.int32'>\n",
            "Preview of data from /content/drive/MyDrive/DVSTraining/amixedhotellightTI25.csv:\n",
            "   265  226  1608383420  0      0.1  2795048  4632868  4529021  4522710  \\\n",
            "0  283  166  1608383425  1  4618167  4615269  4590981  4578587  4563194   \n",
            "1  108  168  1608383425  1  4657548        0  4657799  4620166  4600876   \n",
            "2  263  153  1608383427  1  4648053  4640656  4652750  4638158  4653350   \n",
            "3  114  154  1608383481  1  4590679  4558433  4550100  2868324        0   \n",
            "4  101  134  1608383485  1  4617268  4590781  4566792  2871912  4629264   \n",
            "\n",
            "   4639112  ...    0.244  4541095    0.245  4538226  4650382    0.246  \\\n",
            "0  4647353  ...  2807543  2810416  4654950  2903543  4627263  4645844   \n",
            "1  4647307  ...  4634160  4598177  4628892  4576188        0  4624064   \n",
            "2  4628290  ...  4592280  4577587  4545203  4526912        0  4566681   \n",
            "3        0  ...        0  4654817  2894701  2915390  4585883  4630162   \n",
            "4  4576499  ...  4579086  4546002  4516716  4649531  2905395  2873311   \n",
            "\n",
            "   4533849  4645822    0.247  1608383425  \n",
            "0  4637223  4583654  2904596  1608383425  \n",
            "1  4584384  4560695  4560548  1608383425  \n",
            "2  4580785  4649788  4520915  1608383425  \n",
            "3  4626905  4576987  4535670  1608383425  \n",
            "4  4651639        0  4650796  1608383425  \n",
            "\n",
            "[5 rows x 630 columns]\n",
            "Using columns 265, 226, 1608383420, 0 for t, x, y, p\n",
            "Value ranges:\n",
            "  t: 0 to 345\n",
            "  x: 0 to 259\n",
            "  y: 1608383425 to 1608883405\n",
            "  p: 0 to 1\n",
            "✅ Loaded 35624 events from CSV with data types: t=<class 'numpy.float64'>, x=<class 'numpy.int16'>, y=<class 'numpy.int32'>, p=<class 'numpy.int8'>\n",
            "Data loading completed in 11.24 seconds\n",
            "Building timestamp images...\n",
            "Timestamp image building completed in 0.99 seconds\n",
            "Matching events for training labels...\n",
            "Event matching completed in 0.62 seconds\n",
            "Found 0 signal events and 79673 noise events\n",
            "Extracting patches...\n",
            "Patch extraction completed in 2.80 seconds\n",
            "Training set: 63738 samples, Validation set: 15935 samples\n",
            "Training model...\n"
          ]
        },
        {
          "output_type": "display_data",
          "data": {
            "text/plain": [
              "\u001b[1mModel: \"MLPF\"\u001b[0m\n"
            ],
            "text/html": [
              "<pre style=\"white-space:pre;overflow-x:auto;line-height:normal;font-family:Menlo,'DejaVu Sans Mono',consolas,'Courier New',monospace\"><span style=\"font-weight: bold\">Model: \"MLPF\"</span>\n",
              "</pre>\n"
            ]
          },
          "metadata": {}
        },
        {
          "output_type": "display_data",
          "data": {
            "text/plain": [
              "┏━━━━━━━━━━━━━━━━━━━━━━━━━━━━━━━━━┳━━━━━━━━━━━━━━━━━━━━━━━━┳━━━━━━━━━━━━━━━┓\n",
              "┃\u001b[1m \u001b[0m\u001b[1mLayer (type)                   \u001b[0m\u001b[1m \u001b[0m┃\u001b[1m \u001b[0m\u001b[1mOutput Shape          \u001b[0m\u001b[1m \u001b[0m┃\u001b[1m \u001b[0m\u001b[1m      Param #\u001b[0m\u001b[1m \u001b[0m┃\n",
              "┡━━━━━━━━━━━━━━━━━━━━━━━━━━━━━━━━━╇━━━━━━━━━━━━━━━━━━━━━━━━╇━━━━━━━━━━━━━━━┩\n",
              "│ input (\u001b[38;5;33mInputLayer\u001b[0m)              │ (\u001b[38;5;45mNone\u001b[0m, \u001b[38;5;34m147\u001b[0m)            │             \u001b[38;5;34m0\u001b[0m │\n",
              "├─────────────────────────────────┼────────────────────────┼───────────────┤\n",
              "│ fc1 (\u001b[38;5;33mDense\u001b[0m)                     │ (\u001b[38;5;45mNone\u001b[0m, \u001b[38;5;34m20\u001b[0m)             │         \u001b[38;5;34m2,960\u001b[0m │\n",
              "├─────────────────────────────────┼────────────────────────┼───────────────┤\n",
              "│ dropout_3 (\u001b[38;5;33mDropout\u001b[0m)             │ (\u001b[38;5;45mNone\u001b[0m, \u001b[38;5;34m20\u001b[0m)             │             \u001b[38;5;34m0\u001b[0m │\n",
              "├─────────────────────────────────┼────────────────────────┼───────────────┤\n",
              "│ output (\u001b[38;5;33mDense\u001b[0m)                  │ (\u001b[38;5;45mNone\u001b[0m, \u001b[38;5;34m1\u001b[0m)              │            \u001b[38;5;34m21\u001b[0m │\n",
              "└─────────────────────────────────┴────────────────────────┴───────────────┘\n"
            ],
            "text/html": [
              "<pre style=\"white-space:pre;overflow-x:auto;line-height:normal;font-family:Menlo,'DejaVu Sans Mono',consolas,'Courier New',monospace\">┏━━━━━━━━━━━━━━━━━━━━━━━━━━━━━━━━━┳━━━━━━━━━━━━━━━━━━━━━━━━┳━━━━━━━━━━━━━━━┓\n",
              "┃<span style=\"font-weight: bold\"> Layer (type)                    </span>┃<span style=\"font-weight: bold\"> Output Shape           </span>┃<span style=\"font-weight: bold\">       Param # </span>┃\n",
              "┡━━━━━━━━━━━━━━━━━━━━━━━━━━━━━━━━━╇━━━━━━━━━━━━━━━━━━━━━━━━╇━━━━━━━━━━━━━━━┩\n",
              "│ input (<span style=\"color: #0087ff; text-decoration-color: #0087ff\">InputLayer</span>)              │ (<span style=\"color: #00d7ff; text-decoration-color: #00d7ff\">None</span>, <span style=\"color: #00af00; text-decoration-color: #00af00\">147</span>)            │             <span style=\"color: #00af00; text-decoration-color: #00af00\">0</span> │\n",
              "├─────────────────────────────────┼────────────────────────┼───────────────┤\n",
              "│ fc1 (<span style=\"color: #0087ff; text-decoration-color: #0087ff\">Dense</span>)                     │ (<span style=\"color: #00d7ff; text-decoration-color: #00d7ff\">None</span>, <span style=\"color: #00af00; text-decoration-color: #00af00\">20</span>)             │         <span style=\"color: #00af00; text-decoration-color: #00af00\">2,960</span> │\n",
              "├─────────────────────────────────┼────────────────────────┼───────────────┤\n",
              "│ dropout_3 (<span style=\"color: #0087ff; text-decoration-color: #0087ff\">Dropout</span>)             │ (<span style=\"color: #00d7ff; text-decoration-color: #00d7ff\">None</span>, <span style=\"color: #00af00; text-decoration-color: #00af00\">20</span>)             │             <span style=\"color: #00af00; text-decoration-color: #00af00\">0</span> │\n",
              "├─────────────────────────────────┼────────────────────────┼───────────────┤\n",
              "│ output (<span style=\"color: #0087ff; text-decoration-color: #0087ff\">Dense</span>)                  │ (<span style=\"color: #00d7ff; text-decoration-color: #00d7ff\">None</span>, <span style=\"color: #00af00; text-decoration-color: #00af00\">1</span>)              │            <span style=\"color: #00af00; text-decoration-color: #00af00\">21</span> │\n",
              "└─────────────────────────────────┴────────────────────────┴───────────────┘\n",
              "</pre>\n"
            ]
          },
          "metadata": {}
        },
        {
          "output_type": "display_data",
          "data": {
            "text/plain": [
              "\u001b[1m Total params: \u001b[0m\u001b[38;5;34m2,981\u001b[0m (11.64 KB)\n"
            ],
            "text/html": [
              "<pre style=\"white-space:pre;overflow-x:auto;line-height:normal;font-family:Menlo,'DejaVu Sans Mono',consolas,'Courier New',monospace\"><span style=\"font-weight: bold\"> Total params: </span><span style=\"color: #00af00; text-decoration-color: #00af00\">2,981</span> (11.64 KB)\n",
              "</pre>\n"
            ]
          },
          "metadata": {}
        },
        {
          "output_type": "display_data",
          "data": {
            "text/plain": [
              "\u001b[1m Trainable params: \u001b[0m\u001b[38;5;34m2,981\u001b[0m (11.64 KB)\n"
            ],
            "text/html": [
              "<pre style=\"white-space:pre;overflow-x:auto;line-height:normal;font-family:Menlo,'DejaVu Sans Mono',consolas,'Courier New',monospace\"><span style=\"font-weight: bold\"> Trainable params: </span><span style=\"color: #00af00; text-decoration-color: #00af00\">2,981</span> (11.64 KB)\n",
              "</pre>\n"
            ]
          },
          "metadata": {}
        },
        {
          "output_type": "display_data",
          "data": {
            "text/plain": [
              "\u001b[1m Non-trainable params: \u001b[0m\u001b[38;5;34m0\u001b[0m (0.00 B)\n"
            ],
            "text/html": [
              "<pre style=\"white-space:pre;overflow-x:auto;line-height:normal;font-family:Menlo,'DejaVu Sans Mono',consolas,'Courier New',monospace\"><span style=\"font-weight: bold\"> Non-trainable params: </span><span style=\"color: #00af00; text-decoration-color: #00af00\">0</span> (0.00 B)\n",
              "</pre>\n"
            ]
          },
          "metadata": {}
        },
        {
          "output_type": "stream",
          "name": "stdout",
          "text": [
            "Epoch 1/5\n",
            "\u001b[1m498/498\u001b[0m \u001b[32m━━━━━━━━━━━━━━━━━━━━\u001b[0m\u001b[37m\u001b[0m \u001b[1m0s\u001b[0m 4ms/step - accuracy: 0.9751 - auc: 0.0000e+00 - loss: 0.1517\n",
            "Epoch 1: val_auc improved from -inf to 0.00000, saving model to mlpf_model_best.h5\n"
          ]
        },
        {
          "output_type": "stream",
          "name": "stderr",
          "text": [
            "WARNING:absl:You are saving your model as an HDF5 file via `model.save()` or `keras.saving.save_model(model)`. This file format is considered legacy. We recommend using instead the native Keras format, e.g. `model.save('my_model.keras')` or `keras.saving.save_model(model, 'my_model.keras')`. \n"
          ]
        },
        {
          "output_type": "stream",
          "name": "stdout",
          "text": [
            "\b\b\b\b\b\b\b\b\b\b\b\b\b\b\b\b\b\b\b\b\b\b\b\b\b\b\b\b\b\b\b\b\b\b\b\b\b\b\b\b\b\b\b\b\b\b\b\b\b\b\b\b\b\b\b\b\b\b\b\b\b\b\b\b\b\b\b\b\b\b\b\b\b\b\b\b\b\b\b\b\b\b\b\b\b\b\b\b\b\b\b\b\r\u001b[1m498/498\u001b[0m \u001b[32m━━━━━━━━━━━━━━━━━━━━\u001b[0m\u001b[37m\u001b[0m \u001b[1m5s\u001b[0m 7ms/step - accuracy: 0.9751 - auc: 0.0000e+00 - loss: 0.1516 - val_accuracy: 1.0000 - val_auc: 0.0000e+00 - val_loss: 0.0579\n",
            "Epoch 2/5\n",
            "\u001b[1m485/498\u001b[0m \u001b[32m━━━━━━━━━━━━━━━━━━━\u001b[0m\u001b[37m━\u001b[0m \u001b[1m0s\u001b[0m 2ms/step - accuracy: 1.0000 - auc: 0.0000e+00 - loss: 0.0506\n",
            "Epoch 2: val_auc did not improve from 0.00000\n",
            "\u001b[1m498/498\u001b[0m \u001b[32m━━━━━━━━━━━━━━━━━━━━\u001b[0m\u001b[37m\u001b[0m \u001b[1m1s\u001b[0m 3ms/step - accuracy: 1.0000 - auc: 0.0000e+00 - loss: 0.0504 - val_accuracy: 1.0000 - val_auc: 0.0000e+00 - val_loss: 0.0239\n",
            "Epoch 3/5\n",
            "\u001b[1m486/498\u001b[0m \u001b[32m━━━━━━━━━━━━━━━━━━━\u001b[0m\u001b[37m━\u001b[0m \u001b[1m0s\u001b[0m 2ms/step - accuracy: 1.0000 - auc: 0.0000e+00 - loss: 0.0236\n",
            "Epoch 3: val_auc did not improve from 0.00000\n",
            "\u001b[1m498/498\u001b[0m \u001b[32m━━━━━━━━━━━━━━━━━━━━\u001b[0m\u001b[37m\u001b[0m \u001b[1m1s\u001b[0m 3ms/step - accuracy: 1.0000 - auc: 0.0000e+00 - loss: 0.0235 - val_accuracy: 1.0000 - val_auc: 0.0000e+00 - val_loss: 0.0118\n",
            "Epoch 4/5\n",
            "\u001b[1m488/498\u001b[0m \u001b[32m━━━━━━━━━━━━━━━━━━━\u001b[0m\u001b[37m━\u001b[0m \u001b[1m0s\u001b[0m 2ms/step - accuracy: 1.0000 - auc: 0.0000e+00 - loss: 0.0129\n",
            "Epoch 4: val_auc did not improve from 0.00000\n",
            "\u001b[1m498/498\u001b[0m \u001b[32m━━━━━━━━━━━━━━━━━━━━\u001b[0m\u001b[37m\u001b[0m \u001b[1m1s\u001b[0m 3ms/step - accuracy: 1.0000 - auc: 0.0000e+00 - loss: 0.0128 - val_accuracy: 1.0000 - val_auc: 0.0000e+00 - val_loss: 0.0064\n",
            "Epoch 5/5\n",
            "\u001b[1m478/498\u001b[0m \u001b[32m━━━━━━━━━━━━━━━━━━━\u001b[0m\u001b[37m━\u001b[0m \u001b[1m0s\u001b[0m 2ms/step - accuracy: 1.0000 - auc: 0.0000e+00 - loss: 0.0076\n",
            "Epoch 5: val_auc did not improve from 0.00000\n",
            "\u001b[1m498/498\u001b[0m \u001b[32m━━━━━━━━━━━━━━━━━━━━\u001b[0m\u001b[37m\u001b[0m \u001b[1m1s\u001b[0m 3ms/step - accuracy: 1.0000 - auc: 0.0000e+00 - loss: 0.0076 - val_accuracy: 1.0000 - val_auc: 0.0000e+00 - val_loss: 0.0037\n",
            "Training completed in 10.89 seconds\n",
            "Evaluating model...\n",
            "\u001b[1m498/498\u001b[0m \u001b[32m━━━━━━━━━━━━━━━━━━━━\u001b[0m\u001b[37m\u001b[0m \u001b[1m2s\u001b[0m 3ms/step - accuracy: 1.0000 - auc: 0.0000e+00 - loss: 0.0037\n",
            "Validation loss: 0.0037\n",
            "Validation compile_metrics: 1.0000\n",
            "\u001b[1m498/498\u001b[0m \u001b[32m━━━━━━━━━━━━━━━━━━━━\u001b[0m\u001b[37m\u001b[0m \u001b[1m1s\u001b[0m 1ms/step\n"
          ]
        },
        {
          "output_type": "stream",
          "name": "stderr",
          "text": [
            "/usr/local/lib/python3.11/dist-packages/sklearn/metrics/_ranking.py:1188: UndefinedMetricWarning: No positive samples in y_true, true positive value should be meaningless\n",
            "  warnings.warn(\n",
            "/usr/local/lib/python3.11/dist-packages/sklearn/metrics/_classification.py:407: UserWarning: A single label was found in 'y_true' and 'y_pred'. For the confusion matrix to have the correct shape, use the 'labels' parameter to pass all known labels.\n",
            "  warnings.warn(\n"
          ]
        },
        {
          "output_type": "error",
          "ename": "ValueError",
          "evalue": "not enough values to unpack (expected 4, got 1)",
          "traceback": [
            "\u001b[0;31m---------------------------------------------------------------------------\u001b[0m",
            "\u001b[0;31mValueError\u001b[0m                                Traceback (most recent call last)",
            "\u001b[0;32m<ipython-input-40-b0a926739c7a>\u001b[0m in \u001b[0;36m<cell line: 0>\u001b[0;34m()\u001b[0m\n\u001b[1;32m     17\u001b[0m \u001b[0;34m\u001b[0m\u001b[0m\n\u001b[1;32m     18\u001b[0m     \u001b[0;31m# Run the pipeline to train a model\u001b[0m\u001b[0;34m\u001b[0m\u001b[0;34m\u001b[0m\u001b[0m\n\u001b[0;32m---> 19\u001b[0;31m     model, history, roc_auc = run_denoising_pipeline(\n\u001b[0m\u001b[1;32m     20\u001b[0m         \u001b[0mnoisy_file\u001b[0m\u001b[0;34m,\u001b[0m\u001b[0;34m\u001b[0m\u001b[0;34m\u001b[0m\u001b[0m\n\u001b[1;32m     21\u001b[0m         \u001b[0mclean_file\u001b[0m\u001b[0;34m,\u001b[0m\u001b[0;34m\u001b[0m\u001b[0;34m\u001b[0m\u001b[0m\n",
            "\u001b[0;32m<ipython-input-39-17d487be246d>\u001b[0m in \u001b[0;36mrun_denoising_pipeline\u001b[0;34m(noisy_file, clean_file, patch_size, tau, hidden_units, batch_size, epochs, convert_to_pb, input_is_csv, csv_cols, save_denoised, output_csv)\u001b[0m\n\u001b[1;32m     78\u001b[0m \u001b[0;34m\u001b[0m\u001b[0m\n\u001b[1;32m     79\u001b[0m     \u001b[0;31m# Calculate manual ROC and AUC using the paper's methodology\u001b[0m\u001b[0;34m\u001b[0m\u001b[0;34m\u001b[0m\u001b[0m\n\u001b[0;32m---> 80\u001b[0;31m     \u001b[0mroc_auc\u001b[0m\u001b[0;34m,\u001b[0m \u001b[0mfps\u001b[0m\u001b[0;34m,\u001b[0m \u001b[0mtps\u001b[0m \u001b[0;34m=\u001b[0m \u001b[0mcalculate_manual_roc_auc\u001b[0m\u001b[0;34m(\u001b[0m\u001b[0my_val\u001b[0m\u001b[0;34m,\u001b[0m \u001b[0my_pred\u001b[0m\u001b[0;34m)\u001b[0m\u001b[0;34m\u001b[0m\u001b[0;34m\u001b[0m\u001b[0m\n\u001b[0m\u001b[1;32m     81\u001b[0m \u001b[0;34m\u001b[0m\u001b[0m\n\u001b[1;32m     82\u001b[0m     \u001b[0mprint\u001b[0m\u001b[0;34m(\u001b[0m\u001b[0;34mf\"Standard AUC: {roc_auc_standard:.4f}\"\u001b[0m\u001b[0;34m)\u001b[0m\u001b[0;34m\u001b[0m\u001b[0;34m\u001b[0m\u001b[0m\n",
            "\u001b[0;32m<ipython-input-16-0fb5bde302d1>\u001b[0m in \u001b[0;36mcalculate_manual_roc_auc\u001b[0;34m(y_true, y_pred)\u001b[0m\n\u001b[1;32m     12\u001b[0m     \u001b[0;32mfor\u001b[0m \u001b[0mthreshold\u001b[0m \u001b[0;32min\u001b[0m \u001b[0mrange\u001b[0m\u001b[0;34m(\u001b[0m\u001b[0;36m10\u001b[0m\u001b[0;34m,\u001b[0m \u001b[0;36m100\u001b[0m\u001b[0;34m,\u001b[0m \u001b[0;36m20\u001b[0m\u001b[0;34m)\u001b[0m\u001b[0;34m:\u001b[0m  \u001b[0;31m# 10%, 30%, 50%, 70%, 90%\u001b[0m\u001b[0;34m\u001b[0m\u001b[0;34m\u001b[0m\u001b[0m\n\u001b[1;32m     13\u001b[0m         \u001b[0my_pred_binary\u001b[0m \u001b[0;34m=\u001b[0m \u001b[0;34m(\u001b[0m\u001b[0my_pred\u001b[0m \u001b[0;34m>\u001b[0m \u001b[0mthreshold\u001b[0m\u001b[0;34m/\u001b[0m\u001b[0;36m100\u001b[0m\u001b[0;34m)\u001b[0m\u001b[0;34m.\u001b[0m\u001b[0mastype\u001b[0m\u001b[0;34m(\u001b[0m\u001b[0mint\u001b[0m\u001b[0;34m)\u001b[0m\u001b[0;34m\u001b[0m\u001b[0;34m\u001b[0m\u001b[0m\n\u001b[0;32m---> 14\u001b[0;31m         \u001b[0mtn\u001b[0m\u001b[0;34m,\u001b[0m \u001b[0mfp\u001b[0m\u001b[0;34m,\u001b[0m \u001b[0mfn\u001b[0m\u001b[0;34m,\u001b[0m \u001b[0mtp\u001b[0m \u001b[0;34m=\u001b[0m \u001b[0mconfusion_matrix\u001b[0m\u001b[0;34m(\u001b[0m\u001b[0my_true\u001b[0m\u001b[0;34m,\u001b[0m \u001b[0my_pred_binary\u001b[0m\u001b[0;34m)\u001b[0m\u001b[0;34m.\u001b[0m\u001b[0mravel\u001b[0m\u001b[0;34m(\u001b[0m\u001b[0;34m)\u001b[0m\u001b[0;34m\u001b[0m\u001b[0;34m\u001b[0m\u001b[0m\n\u001b[0m\u001b[1;32m     15\u001b[0m         \u001b[0mtpr\u001b[0m \u001b[0;34m=\u001b[0m \u001b[0mtp\u001b[0m \u001b[0;34m/\u001b[0m \u001b[0;34m(\u001b[0m\u001b[0mtp\u001b[0m \u001b[0;34m+\u001b[0m \u001b[0mfn\u001b[0m\u001b[0;34m)\u001b[0m \u001b[0;32mif\u001b[0m \u001b[0;34m(\u001b[0m\u001b[0mtp\u001b[0m \u001b[0;34m+\u001b[0m \u001b[0mfn\u001b[0m\u001b[0;34m)\u001b[0m \u001b[0;34m>\u001b[0m \u001b[0;36m0\u001b[0m \u001b[0;32melse\u001b[0m \u001b[0;36m0\u001b[0m\u001b[0;34m\u001b[0m\u001b[0;34m\u001b[0m\u001b[0m\n\u001b[1;32m     16\u001b[0m         \u001b[0mfpr\u001b[0m \u001b[0;34m=\u001b[0m \u001b[0mfp\u001b[0m \u001b[0;34m/\u001b[0m \u001b[0;34m(\u001b[0m\u001b[0mfp\u001b[0m \u001b[0;34m+\u001b[0m \u001b[0mtn\u001b[0m\u001b[0;34m)\u001b[0m \u001b[0;32mif\u001b[0m \u001b[0;34m(\u001b[0m\u001b[0mfp\u001b[0m \u001b[0;34m+\u001b[0m \u001b[0mtn\u001b[0m\u001b[0;34m)\u001b[0m \u001b[0;34m>\u001b[0m \u001b[0;36m0\u001b[0m \u001b[0;32melse\u001b[0m \u001b[0;36m0\u001b[0m\u001b[0;34m\u001b[0m\u001b[0;34m\u001b[0m\u001b[0m\n",
            "\u001b[0;31mValueError\u001b[0m: not enough values to unpack (expected 4, got 1)"
          ]
        }
      ]
    },
    {
      "cell_type": "code",
      "source": [
        "# Create output directory on Google Drive\n",
        "output_dir = os.path.join(base_path, \"results\")\n",
        "if not os.path.exists(output_dir):\n",
        "    os.makedirs(output_dir, exist_ok=True)\n",
        "\n",
        "# Train model with custom dataset approach\n",
        "model, history, matched_dataset = create_datasets_and_train()\n",
        "\n",
        "# Save model to Google Drive\n",
        "model_path = os.path.join(output_dir, \"mlpf_model_final.h5\")\n",
        "model.save(model_path)\n",
        "print(f\"Model saved to Google Drive: {model_path}\")"
      ],
      "metadata": {
        "colab": {
          "base_uri": "https://localhost:8080/"
        },
        "id": "eVxPjW7K8eWy",
        "outputId": "90b5e3c0-febf-41f4-bd03-342a3acc9b0f"
      },
      "execution_count": 49,
      "outputs": [
        {
          "output_type": "stream",
          "name": "stdout",
          "text": [
            "Creating datasets...\n",
            "Loading CSV data from /content/drive/MyDrive/DVSTraining/mixedhotellightTI25.csv...\n",
            "Using columns: t=1610903445, x=60, y=131, p=-1\n",
            "✅ Dataset loaded with 79673 events\n",
            "Loading CSV data from /content/drive/MyDrive/DVSTraining/amixedhotellightTI25.csv...\n",
            "Using columns: t=1608383420, x=265, y=226, p=0\n",
            "✅ Dataset loaded with 35624 events\n",
            "Found 9610 signal events and 70063 noise events\n",
            "Training set: 63738 samples, Validation set: 15935 samples\n",
            "Epoch 1/30\n"
          ]
        },
        {
          "output_type": "stream",
          "name": "stderr",
          "text": [
            "/usr/local/lib/python3.11/dist-packages/keras/src/trainers/data_adapters/py_dataset_adapter.py:121: UserWarning: Your `PyDataset` class should call `super().__init__(**kwargs)` in its constructor. `**kwargs` can include `workers`, `use_multiprocessing`, `max_queue_size`. Do not pass these arguments to `fit()`, as they will be ignored.\n",
            "  self._warn_if_super_not_called()\n"
          ]
        },
        {
          "output_type": "stream",
          "name": "stdout",
          "text": [
            "\u001b[1m494/497\u001b[0m \u001b[32m━━━━━━━━━━━━━━━━━━━\u001b[0m\u001b[37m━\u001b[0m \u001b[1m0s\u001b[0m 16ms/step - accuracy: 0.7194 - auc: 0.4067 - loss: 0.2054\n",
            "Epoch 1: val_auc improved from -inf to 0.39816, saving model to /content/drive/MyDrive/DVSTraining/results/mlpf_model_best.h5\n"
          ]
        },
        {
          "output_type": "stream",
          "name": "stderr",
          "text": [
            "WARNING:absl:You are saving your model as an HDF5 file via `model.save()` or `keras.saving.save_model(model)`. This file format is considered legacy. We recommend using instead the native Keras format, e.g. `model.save('my_model.keras')` or `keras.saving.save_model(model, 'my_model.keras')`. \n"
          ]
        },
        {
          "output_type": "stream",
          "name": "stdout",
          "text": [
            "\b\b\b\b\b\b\b\b\b\b\b\b\b\b\b\b\b\b\b\b\b\b\b\b\b\b\b\b\b\b\b\b\b\b\b\b\b\b\b\b\b\b\b\b\b\b\b\b\b\b\b\b\b\b\b\b\b\b\b\b\b\b\b\b\b\b\b\b\b\b\b\b\b\b\b\b\b\b\b\b\b\b\b\b\b\b\b\b\b\r\u001b[1m497/497\u001b[0m \u001b[32m━━━━━━━━━━━━━━━━━━━━\u001b[0m\u001b[37m\u001b[0m \u001b[1m12s\u001b[0m 21ms/step - accuracy: 0.7203 - auc: 0.4069 - loss: 0.2051 - val_accuracy: 0.8794 - val_auc: 0.3982 - val_loss: 0.1283\n",
            "Epoch 2/30\n",
            "\u001b[1m495/497\u001b[0m \u001b[32m━━━━━━━━━━━━━━━━━━━\u001b[0m\u001b[37m━\u001b[0m \u001b[1m0s\u001b[0m 16ms/step - accuracy: 0.8809 - auc: 0.4859 - loss: 0.1258\n",
            "Epoch 2: val_auc improved from 0.39816 to 0.48818, saving model to /content/drive/MyDrive/DVSTraining/results/mlpf_model_best.h5\n"
          ]
        },
        {
          "output_type": "stream",
          "name": "stderr",
          "text": [
            "WARNING:absl:You are saving your model as an HDF5 file via `model.save()` or `keras.saving.save_model(model)`. This file format is considered legacy. We recommend using instead the native Keras format, e.g. `model.save('my_model.keras')` or `keras.saving.save_model(model, 'my_model.keras')`. \n"
          ]
        },
        {
          "output_type": "stream",
          "name": "stdout",
          "text": [
            "\b\b\b\b\b\b\b\b\b\b\b\b\b\b\b\b\b\b\b\b\b\b\b\b\b\b\b\b\b\b\b\b\b\b\b\b\b\b\b\b\b\b\b\b\b\b\b\b\b\b\b\b\b\b\b\b\b\b\b\b\b\b\b\b\b\b\b\b\b\b\b\b\b\b\b\b\b\b\b\b\b\b\b\b\b\b\b\b\b\r\u001b[1m497/497\u001b[0m \u001b[32m━━━━━━━━━━━━━━━━━━━━\u001b[0m\u001b[37m\u001b[0m \u001b[1m10s\u001b[0m 20ms/step - accuracy: 0.8809 - auc: 0.4859 - loss: 0.1257 - val_accuracy: 0.8794 - val_auc: 0.4882 - val_loss: 0.1104\n",
            "Epoch 3/30\n",
            "\u001b[1m495/497\u001b[0m \u001b[32m━━━━━━━━━━━━━━━━━━━\u001b[0m\u001b[37m━\u001b[0m \u001b[1m0s\u001b[0m 16ms/step - accuracy: 0.8790 - auc: 0.5314 - loss: 0.1143\n",
            "Epoch 3: val_auc improved from 0.48818 to 0.75722, saving model to /content/drive/MyDrive/DVSTraining/results/mlpf_model_best.h5\n"
          ]
        },
        {
          "output_type": "stream",
          "name": "stderr",
          "text": [
            "WARNING:absl:You are saving your model as an HDF5 file via `model.save()` or `keras.saving.save_model(model)`. This file format is considered legacy. We recommend using instead the native Keras format, e.g. `model.save('my_model.keras')` or `keras.saving.save_model(model, 'my_model.keras')`. \n"
          ]
        },
        {
          "output_type": "stream",
          "name": "stdout",
          "text": [
            "\b\b\b\b\b\b\b\b\b\b\b\b\b\b\b\b\b\b\b\b\b\b\b\b\b\b\b\b\b\b\b\b\b\b\b\b\b\b\b\b\b\b\b\b\b\b\b\b\b\b\b\b\b\b\b\b\b\b\b\b\b\b\b\b\b\b\b\b\b\b\b\b\b\b\b\b\b\b\b\b\b\b\b\b\b\b\b\b\b\r\u001b[1m497/497\u001b[0m \u001b[32m━━━━━━━━━━━━━━━━━━━━\u001b[0m\u001b[37m\u001b[0m \u001b[1m11s\u001b[0m 21ms/step - accuracy: 0.8790 - auc: 0.5315 - loss: 0.1143 - val_accuracy: 0.8794 - val_auc: 0.7572 - val_loss: 0.1044\n",
            "Epoch 4/30\n",
            "\u001b[1m494/497\u001b[0m \u001b[32m━━━━━━━━━━━━━━━━━━━\u001b[0m\u001b[37m━\u001b[0m \u001b[1m0s\u001b[0m 16ms/step - accuracy: 0.8764 - auc: 0.6087 - loss: 0.1099\n",
            "Epoch 4: val_auc improved from 0.75722 to 0.81966, saving model to /content/drive/MyDrive/DVSTraining/results/mlpf_model_best.h5\n"
          ]
        },
        {
          "output_type": "stream",
          "name": "stderr",
          "text": [
            "WARNING:absl:You are saving your model as an HDF5 file via `model.save()` or `keras.saving.save_model(model)`. This file format is considered legacy. We recommend using instead the native Keras format, e.g. `model.save('my_model.keras')` or `keras.saving.save_model(model, 'my_model.keras')`. \n"
          ]
        },
        {
          "output_type": "stream",
          "name": "stdout",
          "text": [
            "\b\b\b\b\b\b\b\b\b\b\b\b\b\b\b\b\b\b\b\b\b\b\b\b\b\b\b\b\b\b\b\b\b\b\b\b\b\b\b\b\b\b\b\b\b\b\b\b\b\b\b\b\b\b\b\b\b\b\b\b\b\b\b\b\b\b\b\b\b\b\b\b\b\b\b\b\b\b\b\b\b\b\b\b\b\b\b\b\b\r\u001b[1m497/497\u001b[0m \u001b[32m━━━━━━━━━━━━━━━━━━━━\u001b[0m\u001b[37m\u001b[0m \u001b[1m10s\u001b[0m 20ms/step - accuracy: 0.8764 - auc: 0.6088 - loss: 0.1099 - val_accuracy: 0.8794 - val_auc: 0.8197 - val_loss: 0.0998\n",
            "Epoch 5/30\n",
            "\u001b[1m494/497\u001b[0m \u001b[32m━━━━━━━━━━━━━━━━━━━\u001b[0m\u001b[37m━\u001b[0m \u001b[1m0s\u001b[0m 16ms/step - accuracy: 0.8815 - auc: 0.6964 - loss: 0.1016\n",
            "Epoch 5: val_auc improved from 0.81966 to 0.83902, saving model to /content/drive/MyDrive/DVSTraining/results/mlpf_model_best.h5\n"
          ]
        },
        {
          "output_type": "stream",
          "name": "stderr",
          "text": [
            "WARNING:absl:You are saving your model as an HDF5 file via `model.save()` or `keras.saving.save_model(model)`. This file format is considered legacy. We recommend using instead the native Keras format, e.g. `model.save('my_model.keras')` or `keras.saving.save_model(model, 'my_model.keras')`. \n"
          ]
        },
        {
          "output_type": "stream",
          "name": "stdout",
          "text": [
            "\b\b\b\b\b\b\b\b\b\b\b\b\b\b\b\b\b\b\b\b\b\b\b\b\b\b\b\b\b\b\b\b\b\b\b\b\b\b\b\b\b\b\b\b\b\b\b\b\b\b\b\b\b\b\b\b\b\b\b\b\b\b\b\b\b\b\b\b\b\b\b\b\b\b\b\b\b\b\b\b\b\b\b\b\b\b\b\b\b\r\u001b[1m497/497\u001b[0m \u001b[32m━━━━━━━━━━━━━━━━━━━━\u001b[0m\u001b[37m\u001b[0m \u001b[1m10s\u001b[0m 21ms/step - accuracy: 0.8815 - auc: 0.6965 - loss: 0.1016 - val_accuracy: 0.8794 - val_auc: 0.8390 - val_loss: 0.0957\n",
            "Epoch 6/30\n",
            "\u001b[1m496/497\u001b[0m \u001b[32m━━━━━━━━━━━━━━━━━━━\u001b[0m\u001b[37m━\u001b[0m \u001b[1m0s\u001b[0m 16ms/step - accuracy: 0.8801 - auc: 0.7528 - loss: 0.0983\n",
            "Epoch 6: val_auc improved from 0.83902 to 0.84288, saving model to /content/drive/MyDrive/DVSTraining/results/mlpf_model_best.h5\n"
          ]
        },
        {
          "output_type": "stream",
          "name": "stderr",
          "text": [
            "WARNING:absl:You are saving your model as an HDF5 file via `model.save()` or `keras.saving.save_model(model)`. This file format is considered legacy. We recommend using instead the native Keras format, e.g. `model.save('my_model.keras')` or `keras.saving.save_model(model, 'my_model.keras')`. \n"
          ]
        },
        {
          "output_type": "stream",
          "name": "stdout",
          "text": [
            "\b\b\b\b\b\b\b\b\b\b\b\b\b\b\b\b\b\b\b\b\b\b\b\b\b\b\b\b\b\b\b\b\b\b\b\b\b\b\b\b\b\b\b\b\b\b\b\b\b\b\b\b\b\b\b\b\b\b\b\b\b\b\b\b\b\b\b\b\b\b\b\b\b\b\b\b\b\b\b\b\b\b\b\b\b\b\b\b\b\r\u001b[1m497/497\u001b[0m \u001b[32m━━━━━━━━━━━━━━━━━━━━\u001b[0m\u001b[37m\u001b[0m \u001b[1m10s\u001b[0m 20ms/step - accuracy: 0.8801 - auc: 0.7529 - loss: 0.0983 - val_accuracy: 0.8794 - val_auc: 0.8429 - val_loss: 0.0929\n",
            "Epoch 7/30\n",
            "\u001b[1m495/497\u001b[0m \u001b[32m━━━━━━━━━━━━━━━━━━━\u001b[0m\u001b[37m━\u001b[0m \u001b[1m0s\u001b[0m 16ms/step - accuracy: 0.8781 - auc: 0.7923 - loss: 0.0963\n",
            "Epoch 7: val_auc improved from 0.84288 to 0.84409, saving model to /content/drive/MyDrive/DVSTraining/results/mlpf_model_best.h5\n"
          ]
        },
        {
          "output_type": "stream",
          "name": "stderr",
          "text": [
            "WARNING:absl:You are saving your model as an HDF5 file via `model.save()` or `keras.saving.save_model(model)`. This file format is considered legacy. We recommend using instead the native Keras format, e.g. `model.save('my_model.keras')` or `keras.saving.save_model(model, 'my_model.keras')`. \n"
          ]
        },
        {
          "output_type": "stream",
          "name": "stdout",
          "text": [
            "\b\b\b\b\b\b\b\b\b\b\b\b\b\b\b\b\b\b\b\b\b\b\b\b\b\b\b\b\b\b\b\b\b\b\b\b\b\b\b\b\b\b\b\b\b\b\b\b\b\b\b\b\b\b\b\b\b\b\b\b\b\b\b\b\b\b\b\b\b\b\b\b\b\b\b\b\b\b\b\b\b\b\b\b\b\b\b\b\b\r\u001b[1m497/497\u001b[0m \u001b[32m━━━━━━━━━━━━━━━━━━━━\u001b[0m\u001b[37m\u001b[0m \u001b[1m10s\u001b[0m 20ms/step - accuracy: 0.8781 - auc: 0.7923 - loss: 0.0963 - val_accuracy: 0.8794 - val_auc: 0.8441 - val_loss: 0.0912\n",
            "Epoch 8/30\n",
            "\u001b[1m497/497\u001b[0m \u001b[32m━━━━━━━━━━━━━━━━━━━━\u001b[0m\u001b[37m\u001b[0m \u001b[1m0s\u001b[0m 16ms/step - accuracy: 0.8763 - auc: 0.8017 - loss: 0.0953\n",
            "Epoch 8: val_auc improved from 0.84409 to 0.84499, saving model to /content/drive/MyDrive/DVSTraining/results/mlpf_model_best.h5\n"
          ]
        },
        {
          "output_type": "stream",
          "name": "stderr",
          "text": [
            "WARNING:absl:You are saving your model as an HDF5 file via `model.save()` or `keras.saving.save_model(model)`. This file format is considered legacy. We recommend using instead the native Keras format, e.g. `model.save('my_model.keras')` or `keras.saving.save_model(model, 'my_model.keras')`. \n"
          ]
        },
        {
          "output_type": "stream",
          "name": "stdout",
          "text": [
            "\b\b\b\b\b\b\b\b\b\b\b\b\b\b\b\b\b\b\b\b\b\b\b\b\b\b\b\b\b\b\b\b\b\b\b\b\b\b\b\b\b\b\b\b\b\b\b\b\b\b\b\b\b\b\b\b\b\b\b\b\b\b\b\b\b\b\b\b\b\b\b\b\b\b\b\b\b\b\b\b\b\b\b\b\b\b\b\b\b\r\u001b[1m497/497\u001b[0m \u001b[32m━━━━━━━━━━━━━━━━━━━━\u001b[0m\u001b[37m\u001b[0m \u001b[1m10s\u001b[0m 20ms/step - accuracy: 0.8763 - auc: 0.8017 - loss: 0.0953 - val_accuracy: 0.8794 - val_auc: 0.8450 - val_loss: 0.0902\n",
            "Epoch 9/30\n",
            "\u001b[1m497/497\u001b[0m \u001b[32m━━━━━━━━━━━━━━━━━━━━\u001b[0m\u001b[37m\u001b[0m \u001b[1m0s\u001b[0m 16ms/step - accuracy: 0.8799 - auc: 0.8056 - loss: 0.0922\n",
            "Epoch 9: val_auc improved from 0.84499 to 0.84826, saving model to /content/drive/MyDrive/DVSTraining/results/mlpf_model_best.h5\n"
          ]
        },
        {
          "output_type": "stream",
          "name": "stderr",
          "text": [
            "WARNING:absl:You are saving your model as an HDF5 file via `model.save()` or `keras.saving.save_model(model)`. This file format is considered legacy. We recommend using instead the native Keras format, e.g. `model.save('my_model.keras')` or `keras.saving.save_model(model, 'my_model.keras')`. \n"
          ]
        },
        {
          "output_type": "stream",
          "name": "stdout",
          "text": [
            "\b\b\b\b\b\b\b\b\b\b\b\b\b\b\b\b\b\b\b\b\b\b\b\b\b\b\b\b\b\b\b\b\b\b\b\b\b\b\b\b\b\b\b\b\b\b\b\b\b\b\b\b\b\b\b\b\b\b\b\b\b\b\b\b\b\b\b\b\b\b\b\b\b\b\b\b\b\b\b\b\b\b\b\b\b\b\b\b\b\r\u001b[1m497/497\u001b[0m \u001b[32m━━━━━━━━━━━━━━━━━━━━\u001b[0m\u001b[37m\u001b[0m \u001b[1m11s\u001b[0m 21ms/step - accuracy: 0.8799 - auc: 0.8056 - loss: 0.0922 - val_accuracy: 0.8794 - val_auc: 0.8483 - val_loss: 0.0892\n",
            "Epoch 10/30\n",
            "\u001b[1m495/497\u001b[0m \u001b[32m━━━━━━━━━━━━━━━━━━━\u001b[0m\u001b[37m━\u001b[0m \u001b[1m0s\u001b[0m 16ms/step - accuracy: 0.8784 - auc: 0.8087 - loss: 0.0928\n",
            "Epoch 10: val_auc improved from 0.84826 to 0.84957, saving model to /content/drive/MyDrive/DVSTraining/results/mlpf_model_best.h5\n"
          ]
        },
        {
          "output_type": "stream",
          "name": "stderr",
          "text": [
            "WARNING:absl:You are saving your model as an HDF5 file via `model.save()` or `keras.saving.save_model(model)`. This file format is considered legacy. We recommend using instead the native Keras format, e.g. `model.save('my_model.keras')` or `keras.saving.save_model(model, 'my_model.keras')`. \n"
          ]
        },
        {
          "output_type": "stream",
          "name": "stdout",
          "text": [
            "\b\b\b\b\b\b\b\b\b\b\b\b\b\b\b\b\b\b\b\b\b\b\b\b\b\b\b\b\b\b\b\b\b\b\b\b\b\b\b\b\b\b\b\b\b\b\b\b\b\b\b\b\b\b\b\b\b\b\b\b\b\b\b\b\b\b\b\b\b\b\b\b\b\b\b\b\b\b\b\b\b\b\b\b\b\b\b\b\b\r\u001b[1m497/497\u001b[0m \u001b[32m━━━━━━━━━━━━━━━━━━━━\u001b[0m\u001b[37m\u001b[0m \u001b[1m10s\u001b[0m 20ms/step - accuracy: 0.8784 - auc: 0.8087 - loss: 0.0928 - val_accuracy: 0.8794 - val_auc: 0.8496 - val_loss: 0.0887\n",
            "Epoch 11/30\n",
            "\u001b[1m495/497\u001b[0m \u001b[32m━━━━━━━━━━━━━━━━━━━\u001b[0m\u001b[37m━\u001b[0m \u001b[1m0s\u001b[0m 16ms/step - accuracy: 0.8822 - auc: 0.8098 - loss: 0.0902\n",
            "Epoch 11: val_auc improved from 0.84957 to 0.85149, saving model to /content/drive/MyDrive/DVSTraining/results/mlpf_model_best.h5\n"
          ]
        },
        {
          "output_type": "stream",
          "name": "stderr",
          "text": [
            "WARNING:absl:You are saving your model as an HDF5 file via `model.save()` or `keras.saving.save_model(model)`. This file format is considered legacy. We recommend using instead the native Keras format, e.g. `model.save('my_model.keras')` or `keras.saving.save_model(model, 'my_model.keras')`. \n"
          ]
        },
        {
          "output_type": "stream",
          "name": "stdout",
          "text": [
            "\b\b\b\b\b\b\b\b\b\b\b\b\b\b\b\b\b\b\b\b\b\b\b\b\b\b\b\b\b\b\b\b\b\b\b\b\b\b\b\b\b\b\b\b\b\b\b\b\b\b\b\b\b\b\b\b\b\b\b\b\b\b\b\b\b\b\b\b\b\b\b\b\b\b\b\b\b\b\b\b\b\b\b\b\b\b\b\b\b\r\u001b[1m497/497\u001b[0m \u001b[32m━━━━━━━━━━━━━━━━━━━━\u001b[0m\u001b[37m\u001b[0m \u001b[1m11s\u001b[0m 21ms/step - accuracy: 0.8822 - auc: 0.8098 - loss: 0.0902 - val_accuracy: 0.8794 - val_auc: 0.8515 - val_loss: 0.0878\n",
            "Epoch 12/30\n",
            "\u001b[1m496/497\u001b[0m \u001b[32m━━━━━━━━━━━━━━━━━━━\u001b[0m\u001b[37m━\u001b[0m \u001b[1m0s\u001b[0m 16ms/step - accuracy: 0.8802 - auc: 0.8122 - loss: 0.0914\n",
            "Epoch 12: val_auc improved from 0.85149 to 0.85294, saving model to /content/drive/MyDrive/DVSTraining/results/mlpf_model_best.h5\n"
          ]
        },
        {
          "output_type": "stream",
          "name": "stderr",
          "text": [
            "WARNING:absl:You are saving your model as an HDF5 file via `model.save()` or `keras.saving.save_model(model)`. This file format is considered legacy. We recommend using instead the native Keras format, e.g. `model.save('my_model.keras')` or `keras.saving.save_model(model, 'my_model.keras')`. \n"
          ]
        },
        {
          "output_type": "stream",
          "name": "stdout",
          "text": [
            "\b\b\b\b\b\b\b\b\b\b\b\b\b\b\b\b\b\b\b\b\b\b\b\b\b\b\b\b\b\b\b\b\b\b\b\b\b\b\b\b\b\b\b\b\b\b\b\b\b\b\b\b\b\b\b\b\b\b\b\b\b\b\b\b\b\b\b\b\b\b\b\b\b\b\b\b\b\b\b\b\b\b\b\b\b\b\b\b\b\r\u001b[1m497/497\u001b[0m \u001b[32m━━━━━━━━━━━━━━━━━━━━\u001b[0m\u001b[37m\u001b[0m \u001b[1m10s\u001b[0m 20ms/step - accuracy: 0.8802 - auc: 0.8122 - loss: 0.0914 - val_accuracy: 0.8802 - val_auc: 0.8529 - val_loss: 0.0874\n",
            "Epoch 13/30\n",
            "\u001b[1m495/497\u001b[0m \u001b[32m━━━━━━━━━━━━━━━━━━━\u001b[0m\u001b[37m━\u001b[0m \u001b[1m0s\u001b[0m 16ms/step - accuracy: 0.8843 - auc: 0.8145 - loss: 0.0890\n",
            "Epoch 13: val_auc improved from 0.85294 to 0.85362, saving model to /content/drive/MyDrive/DVSTraining/results/mlpf_model_best.h5\n"
          ]
        },
        {
          "output_type": "stream",
          "name": "stderr",
          "text": [
            "WARNING:absl:You are saving your model as an HDF5 file via `model.save()` or `keras.saving.save_model(model)`. This file format is considered legacy. We recommend using instead the native Keras format, e.g. `model.save('my_model.keras')` or `keras.saving.save_model(model, 'my_model.keras')`. \n"
          ]
        },
        {
          "output_type": "stream",
          "name": "stdout",
          "text": [
            "\b\b\b\b\b\b\b\b\b\b\b\b\b\b\b\b\b\b\b\b\b\b\b\b\b\b\b\b\b\b\b\b\b\b\b\b\b\b\b\b\b\b\b\b\b\b\b\b\b\b\b\b\b\b\b\b\b\b\b\b\b\b\b\b\b\b\b\b\b\b\b\b\b\b\b\b\b\b\b\b\b\b\b\b\b\b\b\b\b\r\u001b[1m497/497\u001b[0m \u001b[32m━━━━━━━━━━━━━━━━━━━━\u001b[0m\u001b[37m\u001b[0m \u001b[1m11s\u001b[0m 21ms/step - accuracy: 0.8843 - auc: 0.8146 - loss: 0.0890 - val_accuracy: 0.8808 - val_auc: 0.8536 - val_loss: 0.0871\n",
            "Epoch 14/30\n",
            "\u001b[1m497/497\u001b[0m \u001b[32m━━━━━━━━━━━━━━━━━━━━\u001b[0m\u001b[37m\u001b[0m \u001b[1m0s\u001b[0m 16ms/step - accuracy: 0.8821 - auc: 0.8223 - loss: 0.0891\n",
            "Epoch 14: val_auc improved from 0.85362 to 0.85552, saving model to /content/drive/MyDrive/DVSTraining/results/mlpf_model_best.h5\n"
          ]
        },
        {
          "output_type": "stream",
          "name": "stderr",
          "text": [
            "WARNING:absl:You are saving your model as an HDF5 file via `model.save()` or `keras.saving.save_model(model)`. This file format is considered legacy. We recommend using instead the native Keras format, e.g. `model.save('my_model.keras')` or `keras.saving.save_model(model, 'my_model.keras')`. \n"
          ]
        },
        {
          "output_type": "stream",
          "name": "stdout",
          "text": [
            "\b\b\b\b\b\b\b\b\b\b\b\b\b\b\b\b\b\b\b\b\b\b\b\b\b\b\b\b\b\b\b\b\b\b\b\b\b\b\b\b\b\b\b\b\b\b\b\b\b\b\b\b\b\b\b\b\b\b\b\b\b\b\b\b\b\b\b\b\b\b\b\b\b\b\b\b\b\b\b\b\b\b\b\b\b\b\b\b\b\r\u001b[1m497/497\u001b[0m \u001b[32m━━━━━━━━━━━━━━━━━━━━\u001b[0m\u001b[37m\u001b[0m \u001b[1m10s\u001b[0m 20ms/step - accuracy: 0.8821 - auc: 0.8223 - loss: 0.0891 - val_accuracy: 0.8811 - val_auc: 0.8555 - val_loss: 0.0865\n",
            "Epoch 15/30\n",
            "\u001b[1m494/497\u001b[0m \u001b[32m━━━━━━━━━━━━━━━━━━━\u001b[0m\u001b[37m━\u001b[0m \u001b[1m0s\u001b[0m 16ms/step - accuracy: 0.8837 - auc: 0.8168 - loss: 0.0894\n",
            "Epoch 15: val_auc improved from 0.85552 to 0.85648, saving model to /content/drive/MyDrive/DVSTraining/results/mlpf_model_best.h5\n"
          ]
        },
        {
          "output_type": "stream",
          "name": "stderr",
          "text": [
            "WARNING:absl:You are saving your model as an HDF5 file via `model.save()` or `keras.saving.save_model(model)`. This file format is considered legacy. We recommend using instead the native Keras format, e.g. `model.save('my_model.keras')` or `keras.saving.save_model(model, 'my_model.keras')`. \n"
          ]
        },
        {
          "output_type": "stream",
          "name": "stdout",
          "text": [
            "\b\b\b\b\b\b\b\b\b\b\b\b\b\b\b\b\b\b\b\b\b\b\b\b\b\b\b\b\b\b\b\b\b\b\b\b\b\b\b\b\b\b\b\b\b\b\b\b\b\b\b\b\b\b\b\b\b\b\b\b\b\b\b\b\b\b\b\b\b\b\b\b\b\b\b\b\b\b\b\b\b\b\b\b\b\b\b\b\b\r\u001b[1m497/497\u001b[0m \u001b[32m━━━━━━━━━━━━━━━━━━━━\u001b[0m\u001b[37m\u001b[0m \u001b[1m10s\u001b[0m 20ms/step - accuracy: 0.8837 - auc: 0.8168 - loss: 0.0894 - val_accuracy: 0.8820 - val_auc: 0.8565 - val_loss: 0.0862\n",
            "Epoch 16/30\n",
            "\u001b[1m495/497\u001b[0m \u001b[32m━━━━━━━━━━━━━━━━━━━\u001b[0m\u001b[37m━\u001b[0m \u001b[1m0s\u001b[0m 16ms/step - accuracy: 0.8840 - auc: 0.8157 - loss: 0.0890\n",
            "Epoch 16: val_auc did not improve from 0.85648\n",
            "\u001b[1m497/497\u001b[0m \u001b[32m━━━━━━━━━━━━━━━━━━━━\u001b[0m\u001b[37m\u001b[0m \u001b[1m10s\u001b[0m 20ms/step - accuracy: 0.8840 - auc: 0.8157 - loss: 0.0890 - val_accuracy: 0.8831 - val_auc: 0.8556 - val_loss: 0.0861\n",
            "Epoch 17/30\n",
            "\u001b[1m495/497\u001b[0m \u001b[32m━━━━━━━━━━━━━━━━━━━\u001b[0m\u001b[37m━\u001b[0m \u001b[1m0s\u001b[0m 16ms/step - accuracy: 0.8856 - auc: 0.8209 - loss: 0.0876\n",
            "Epoch 17: val_auc improved from 0.85648 to 0.85648, saving model to /content/drive/MyDrive/DVSTraining/results/mlpf_model_best.h5\n"
          ]
        },
        {
          "output_type": "stream",
          "name": "stderr",
          "text": [
            "WARNING:absl:You are saving your model as an HDF5 file via `model.save()` or `keras.saving.save_model(model)`. This file format is considered legacy. We recommend using instead the native Keras format, e.g. `model.save('my_model.keras')` or `keras.saving.save_model(model, 'my_model.keras')`. \n"
          ]
        },
        {
          "output_type": "stream",
          "name": "stdout",
          "text": [
            "\b\b\b\b\b\b\b\b\b\b\b\b\b\b\b\b\b\b\b\b\b\b\b\b\b\b\b\b\b\b\b\b\b\b\b\b\b\b\b\b\b\b\b\b\b\b\b\b\b\b\b\b\b\b\b\b\b\b\b\b\b\b\b\b\b\b\b\b\b\b\b\b\b\b\b\b\b\b\b\b\b\b\b\b\b\b\b\b\b\r\u001b[1m497/497\u001b[0m \u001b[32m━━━━━━━━━━━━━━━━━━━━\u001b[0m\u001b[37m\u001b[0m \u001b[1m11s\u001b[0m 21ms/step - accuracy: 0.8856 - auc: 0.8209 - loss: 0.0876 - val_accuracy: 0.8830 - val_auc: 0.8565 - val_loss: 0.0859\n",
            "Epoch 18/30\n",
            "\u001b[1m496/497\u001b[0m \u001b[32m━━━━━━━━━━━━━━━━━━━\u001b[0m\u001b[37m━\u001b[0m \u001b[1m0s\u001b[0m 16ms/step - accuracy: 0.8822 - auc: 0.8221 - loss: 0.0897\n",
            "Epoch 18: val_auc improved from 0.85648 to 0.85657, saving model to /content/drive/MyDrive/DVSTraining/results/mlpf_model_best.h5\n"
          ]
        },
        {
          "output_type": "stream",
          "name": "stderr",
          "text": [
            "WARNING:absl:You are saving your model as an HDF5 file via `model.save()` or `keras.saving.save_model(model)`. This file format is considered legacy. We recommend using instead the native Keras format, e.g. `model.save('my_model.keras')` or `keras.saving.save_model(model, 'my_model.keras')`. \n"
          ]
        },
        {
          "output_type": "stream",
          "name": "stdout",
          "text": [
            "\b\b\b\b\b\b\b\b\b\b\b\b\b\b\b\b\b\b\b\b\b\b\b\b\b\b\b\b\b\b\b\b\b\b\b\b\b\b\b\b\b\b\b\b\b\b\b\b\b\b\b\b\b\b\b\b\b\b\b\b\b\b\b\b\b\b\b\b\b\b\b\b\b\b\b\b\b\b\b\b\b\b\b\b\b\b\b\b\b\r\u001b[1m497/497\u001b[0m \u001b[32m━━━━━━━━━━━━━━━━━━━━\u001b[0m\u001b[37m\u001b[0m \u001b[1m10s\u001b[0m 19ms/step - accuracy: 0.8822 - auc: 0.8221 - loss: 0.0896 - val_accuracy: 0.8831 - val_auc: 0.8566 - val_loss: 0.0858\n",
            "Epoch 19/30\n",
            "\u001b[1m496/497\u001b[0m \u001b[32m━━━━━━━━━━━━━━━━━━━\u001b[0m\u001b[37m━\u001b[0m \u001b[1m0s\u001b[0m 16ms/step - accuracy: 0.8839 - auc: 0.8262 - loss: 0.0878\n",
            "Epoch 19: val_auc improved from 0.85657 to 0.85685, saving model to /content/drive/MyDrive/DVSTraining/results/mlpf_model_best.h5\n"
          ]
        },
        {
          "output_type": "stream",
          "name": "stderr",
          "text": [
            "WARNING:absl:You are saving your model as an HDF5 file via `model.save()` or `keras.saving.save_model(model)`. This file format is considered legacy. We recommend using instead the native Keras format, e.g. `model.save('my_model.keras')` or `keras.saving.save_model(model, 'my_model.keras')`. \n"
          ]
        },
        {
          "output_type": "stream",
          "name": "stdout",
          "text": [
            "\b\b\b\b\b\b\b\b\b\b\b\b\b\b\b\b\b\b\b\b\b\b\b\b\b\b\b\b\b\b\b\b\b\b\b\b\b\b\b\b\b\b\b\b\b\b\b\b\b\b\b\b\b\b\b\b\b\b\b\b\b\b\b\b\b\b\b\b\b\b\b\b\b\b\b\b\b\b\b\b\b\b\b\b\b\b\b\b\b\r\u001b[1m497/497\u001b[0m \u001b[32m━━━━━━━━━━━━━━━━━━━━\u001b[0m\u001b[37m\u001b[0m \u001b[1m11s\u001b[0m 21ms/step - accuracy: 0.8839 - auc: 0.8261 - loss: 0.0878 - val_accuracy: 0.8841 - val_auc: 0.8568 - val_loss: 0.0852\n",
            "Epoch 20/30\n",
            "\u001b[1m492/497\u001b[0m \u001b[32m━━━━━━━━━━━━━━━━━━━\u001b[0m\u001b[37m━\u001b[0m \u001b[1m0s\u001b[0m 16ms/step - accuracy: 0.8858 - auc: 0.8268 - loss: 0.0868\n",
            "Epoch 20: val_auc improved from 0.85685 to 0.85686, saving model to /content/drive/MyDrive/DVSTraining/results/mlpf_model_best.h5\n"
          ]
        },
        {
          "output_type": "stream",
          "name": "stderr",
          "text": [
            "WARNING:absl:You are saving your model as an HDF5 file via `model.save()` or `keras.saving.save_model(model)`. This file format is considered legacy. We recommend using instead the native Keras format, e.g. `model.save('my_model.keras')` or `keras.saving.save_model(model, 'my_model.keras')`. \n"
          ]
        },
        {
          "output_type": "stream",
          "name": "stdout",
          "text": [
            "\b\b\b\b\b\b\b\b\b\b\b\b\b\b\b\b\b\b\b\b\b\b\b\b\b\b\b\b\b\b\b\b\b\b\b\b\b\b\b\b\b\b\b\b\b\b\b\b\b\b\b\b\b\b\b\b\b\b\b\b\b\b\b\b\b\b\b\b\b\b\b\b\b\b\b\b\b\b\b\b\b\b\b\b\b\b\b\b\b\r\u001b[1m497/497\u001b[0m \u001b[32m━━━━━━━━━━━━━━━━━━━━\u001b[0m\u001b[37m\u001b[0m \u001b[1m10s\u001b[0m 20ms/step - accuracy: 0.8858 - auc: 0.8268 - loss: 0.0868 - val_accuracy: 0.8843 - val_auc: 0.8569 - val_loss: 0.0849\n",
            "Epoch 21/30\n",
            "\u001b[1m496/497\u001b[0m \u001b[32m━━━━━━━━━━━━━━━━━━━\u001b[0m\u001b[37m━\u001b[0m \u001b[1m0s\u001b[0m 15ms/step - accuracy: 0.8838 - auc: 0.8224 - loss: 0.0882\n",
            "Epoch 21: val_auc did not improve from 0.85686\n",
            "\u001b[1m497/497\u001b[0m \u001b[32m━━━━━━━━━━━━━━━━━━━━\u001b[0m\u001b[37m\u001b[0m \u001b[1m10s\u001b[0m 20ms/step - accuracy: 0.8838 - auc: 0.8224 - loss: 0.0882 - val_accuracy: 0.8846 - val_auc: 0.8568 - val_loss: 0.0848\n",
            "Epoch 22/30\n",
            "\u001b[1m495/497\u001b[0m \u001b[32m━━━━━━━━━━━━━━━━━━━\u001b[0m\u001b[37m━\u001b[0m \u001b[1m0s\u001b[0m 16ms/step - accuracy: 0.8856 - auc: 0.8283 - loss: 0.0867\n",
            "Epoch 22: val_auc improved from 0.85686 to 0.85844, saving model to /content/drive/MyDrive/DVSTraining/results/mlpf_model_best.h5\n"
          ]
        },
        {
          "output_type": "stream",
          "name": "stderr",
          "text": [
            "WARNING:absl:You are saving your model as an HDF5 file via `model.save()` or `keras.saving.save_model(model)`. This file format is considered legacy. We recommend using instead the native Keras format, e.g. `model.save('my_model.keras')` or `keras.saving.save_model(model, 'my_model.keras')`. \n"
          ]
        },
        {
          "output_type": "stream",
          "name": "stdout",
          "text": [
            "\b\b\b\b\b\b\b\b\b\b\b\b\b\b\b\b\b\b\b\b\b\b\b\b\b\b\b\b\b\b\b\b\b\b\b\b\b\b\b\b\b\b\b\b\b\b\b\b\b\b\b\b\b\b\b\b\b\b\b\b\b\b\b\b\b\b\b\b\b\b\b\b\b\b\b\b\b\b\b\b\b\b\b\b\b\b\b\b\b\r\u001b[1m497/497\u001b[0m \u001b[32m━━━━━━━━━━━━━━━━━━━━\u001b[0m\u001b[37m\u001b[0m \u001b[1m11s\u001b[0m 21ms/step - accuracy: 0.8856 - auc: 0.8283 - loss: 0.0867 - val_accuracy: 0.8850 - val_auc: 0.8584 - val_loss: 0.0844\n",
            "Epoch 23/30\n",
            "\u001b[1m496/497\u001b[0m \u001b[32m━━━━━━━━━━━━━━━━━━━\u001b[0m\u001b[37m━\u001b[0m \u001b[1m0s\u001b[0m 16ms/step - accuracy: 0.8872 - auc: 0.8279 - loss: 0.0857\n",
            "Epoch 23: val_auc improved from 0.85844 to 0.85923, saving model to /content/drive/MyDrive/DVSTraining/results/mlpf_model_best.h5\n"
          ]
        },
        {
          "output_type": "stream",
          "name": "stderr",
          "text": [
            "WARNING:absl:You are saving your model as an HDF5 file via `model.save()` or `keras.saving.save_model(model)`. This file format is considered legacy. We recommend using instead the native Keras format, e.g. `model.save('my_model.keras')` or `keras.saving.save_model(model, 'my_model.keras')`. \n"
          ]
        },
        {
          "output_type": "stream",
          "name": "stdout",
          "text": [
            "\b\b\b\b\b\b\b\b\b\b\b\b\b\b\b\b\b\b\b\b\b\b\b\b\b\b\b\b\b\b\b\b\b\b\b\b\b\b\b\b\b\b\b\b\b\b\b\b\b\b\b\b\b\b\b\b\b\b\b\b\b\b\b\b\b\b\b\b\b\b\b\b\b\b\b\b\b\b\b\b\b\b\b\b\b\b\b\b\b\r\u001b[1m497/497\u001b[0m \u001b[32m━━━━━━━━━━━━━━━━━━━━\u001b[0m\u001b[37m\u001b[0m \u001b[1m10s\u001b[0m 20ms/step - accuracy: 0.8872 - auc: 0.8279 - loss: 0.0857 - val_accuracy: 0.8851 - val_auc: 0.8592 - val_loss: 0.0842\n",
            "Epoch 24/30\n",
            "\u001b[1m497/497\u001b[0m \u001b[32m━━━━━━━━━━━━━━━━━━━━\u001b[0m\u001b[37m\u001b[0m \u001b[1m0s\u001b[0m 16ms/step - accuracy: 0.8870 - auc: 0.8305 - loss: 0.0859\n",
            "Epoch 24: val_auc did not improve from 0.85923\n",
            "\u001b[1m497/497\u001b[0m \u001b[32m━━━━━━━━━━━━━━━━━━━━\u001b[0m\u001b[37m\u001b[0m \u001b[1m10s\u001b[0m 20ms/step - accuracy: 0.8870 - auc: 0.8305 - loss: 0.0859 - val_accuracy: 0.8856 - val_auc: 0.8583 - val_loss: 0.0841\n",
            "Epoch 25/30\n",
            "\u001b[1m493/497\u001b[0m \u001b[32m━━━━━━━━━━━━━━━━━━━\u001b[0m\u001b[37m━\u001b[0m \u001b[1m0s\u001b[0m 16ms/step - accuracy: 0.8855 - auc: 0.8306 - loss: 0.0866\n",
            "Epoch 25: val_auc did not improve from 0.85923\n",
            "\u001b[1m497/497\u001b[0m \u001b[32m━━━━━━━━━━━━━━━━━━━━\u001b[0m\u001b[37m\u001b[0m \u001b[1m10s\u001b[0m 20ms/step - accuracy: 0.8855 - auc: 0.8306 - loss: 0.0866 - val_accuracy: 0.8857 - val_auc: 0.8586 - val_loss: 0.0843\n",
            "Epoch 26/30\n",
            "\u001b[1m497/497\u001b[0m \u001b[32m━━━━━━━━━━━━━━━━━━━━\u001b[0m\u001b[37m\u001b[0m \u001b[1m0s\u001b[0m 15ms/step - accuracy: 0.8851 - auc: 0.8333 - loss: 0.0865\n",
            "Epoch 26: val_auc improved from 0.85923 to 0.86033, saving model to /content/drive/MyDrive/DVSTraining/results/mlpf_model_best.h5\n"
          ]
        },
        {
          "output_type": "stream",
          "name": "stderr",
          "text": [
            "WARNING:absl:You are saving your model as an HDF5 file via `model.save()` or `keras.saving.save_model(model)`. This file format is considered legacy. We recommend using instead the native Keras format, e.g. `model.save('my_model.keras')` or `keras.saving.save_model(model, 'my_model.keras')`. \n"
          ]
        },
        {
          "output_type": "stream",
          "name": "stdout",
          "text": [
            "\b\b\b\b\b\b\b\b\b\b\b\b\b\b\b\b\b\b\b\b\b\b\b\b\b\b\b\b\b\b\b\b\b\b\b\b\b\b\b\b\b\b\b\b\b\b\b\b\b\b\b\b\b\b\b\b\b\b\b\b\b\b\b\b\b\b\b\b\b\b\b\b\b\b\b\b\b\b\b\b\b\b\b\b\b\b\b\b\b\r\u001b[1m497/497\u001b[0m \u001b[32m━━━━━━━━━━━━━━━━━━━━\u001b[0m\u001b[37m\u001b[0m \u001b[1m11s\u001b[0m 21ms/step - accuracy: 0.8851 - auc: 0.8333 - loss: 0.0865 - val_accuracy: 0.8857 - val_auc: 0.8603 - val_loss: 0.0838\n",
            "Epoch 27/30\n",
            "\u001b[1m495/497\u001b[0m \u001b[32m━━━━━━━━━━━━━━━━━━━\u001b[0m\u001b[37m━\u001b[0m \u001b[1m0s\u001b[0m 16ms/step - accuracy: 0.8843 - auc: 0.8311 - loss: 0.0870\n",
            "Epoch 27: val_auc improved from 0.86033 to 0.86183, saving model to /content/drive/MyDrive/DVSTraining/results/mlpf_model_best.h5\n"
          ]
        },
        {
          "output_type": "stream",
          "name": "stderr",
          "text": [
            "WARNING:absl:You are saving your model as an HDF5 file via `model.save()` or `keras.saving.save_model(model)`. This file format is considered legacy. We recommend using instead the native Keras format, e.g. `model.save('my_model.keras')` or `keras.saving.save_model(model, 'my_model.keras')`. \n"
          ]
        },
        {
          "output_type": "stream",
          "name": "stdout",
          "text": [
            "\b\b\b\b\b\b\b\b\b\b\b\b\b\b\b\b\b\b\b\b\b\b\b\b\b\b\b\b\b\b\b\b\b\b\b\b\b\b\b\b\b\b\b\b\b\b\b\b\b\b\b\b\b\b\b\b\b\b\b\b\b\b\b\b\b\b\b\b\b\b\b\b\b\b\b\b\b\b\b\b\b\b\b\b\b\b\b\b\b\r\u001b[1m497/497\u001b[0m \u001b[32m━━━━━━━━━━━━━━━━━━━━\u001b[0m\u001b[37m\u001b[0m \u001b[1m10s\u001b[0m 20ms/step - accuracy: 0.8844 - auc: 0.8311 - loss: 0.0870 - val_accuracy: 0.8861 - val_auc: 0.8618 - val_loss: 0.0834\n",
            "Epoch 28/30\n",
            "\u001b[1m495/497\u001b[0m \u001b[32m━━━━━━━━━━━━━━━━━━━\u001b[0m\u001b[37m━\u001b[0m \u001b[1m0s\u001b[0m 17ms/step - accuracy: 0.8851 - auc: 0.8305 - loss: 0.0870\n",
            "Epoch 28: val_auc improved from 0.86183 to 0.86251, saving model to /content/drive/MyDrive/DVSTraining/results/mlpf_model_best.h5\n"
          ]
        },
        {
          "output_type": "stream",
          "name": "stderr",
          "text": [
            "WARNING:absl:You are saving your model as an HDF5 file via `model.save()` or `keras.saving.save_model(model)`. This file format is considered legacy. We recommend using instead the native Keras format, e.g. `model.save('my_model.keras')` or `keras.saving.save_model(model, 'my_model.keras')`. \n"
          ]
        },
        {
          "output_type": "stream",
          "name": "stdout",
          "text": [
            "\b\b\b\b\b\b\b\b\b\b\b\b\b\b\b\b\b\b\b\b\b\b\b\b\b\b\b\b\b\b\b\b\b\b\b\b\b\b\b\b\b\b\b\b\b\b\b\b\b\b\b\b\b\b\b\b\b\b\b\b\b\b\b\b\b\b\b\b\b\b\b\b\b\b\b\b\b\b\b\b\b\b\b\b\b\b\b\b\b\r\u001b[1m497/497\u001b[0m \u001b[32m━━━━━━━━━━━━━━━━━━━━\u001b[0m\u001b[37m\u001b[0m \u001b[1m10s\u001b[0m 21ms/step - accuracy: 0.8851 - auc: 0.8306 - loss: 0.0870 - val_accuracy: 0.8861 - val_auc: 0.8625 - val_loss: 0.0834\n",
            "Epoch 29/30\n",
            "\u001b[1m489/497\u001b[0m \u001b[32m━━━━━━━━━━━━━━━━━━━\u001b[0m\u001b[37m━\u001b[0m \u001b[1m0s\u001b[0m 16ms/step - accuracy: 0.8849 - auc: 0.8392 - loss: 0.0860\n",
            "Epoch 29: val_auc improved from 0.86251 to 0.86314, saving model to /content/drive/MyDrive/DVSTraining/results/mlpf_model_best.h5\n"
          ]
        },
        {
          "output_type": "stream",
          "name": "stderr",
          "text": [
            "WARNING:absl:You are saving your model as an HDF5 file via `model.save()` or `keras.saving.save_model(model)`. This file format is considered legacy. We recommend using instead the native Keras format, e.g. `model.save('my_model.keras')` or `keras.saving.save_model(model, 'my_model.keras')`. \n"
          ]
        },
        {
          "output_type": "stream",
          "name": "stdout",
          "text": [
            "\b\b\b\b\b\b\b\b\b\b\b\b\b\b\b\b\b\b\b\b\b\b\b\b\b\b\b\b\b\b\b\b\b\b\b\b\b\b\b\b\b\b\b\b\b\b\b\b\b\b\b\b\b\b\b\b\b\b\b\b\b\b\b\b\b\b\b\b\b\b\b\b\b\b\b\b\b\b\b\b\b\b\b\b\b\b\b\b\b\r\u001b[1m497/497\u001b[0m \u001b[32m━━━━━━━━━━━━━━━━━━━━\u001b[0m\u001b[37m\u001b[0m \u001b[1m10s\u001b[0m 20ms/step - accuracy: 0.8849 - auc: 0.8392 - loss: 0.0860 - val_accuracy: 0.8865 - val_auc: 0.8631 - val_loss: 0.0830\n",
            "Epoch 30/30\n",
            "\u001b[1m494/497\u001b[0m \u001b[32m━━━━━━━━━━━━━━━━━━━\u001b[0m\u001b[37m━\u001b[0m \u001b[1m0s\u001b[0m 16ms/step - accuracy: 0.8869 - auc: 0.8372 - loss: 0.0850\n",
            "Epoch 30: val_auc improved from 0.86314 to 0.86439, saving model to /content/drive/MyDrive/DVSTraining/results/mlpf_model_best.h5\n"
          ]
        },
        {
          "output_type": "stream",
          "name": "stderr",
          "text": [
            "WARNING:absl:You are saving your model as an HDF5 file via `model.save()` or `keras.saving.save_model(model)`. This file format is considered legacy. We recommend using instead the native Keras format, e.g. `model.save('my_model.keras')` or `keras.saving.save_model(model, 'my_model.keras')`. \n"
          ]
        },
        {
          "output_type": "stream",
          "name": "stdout",
          "text": [
            "\b\b\b\b\b\b\b\b\b\b\b\b\b\b\b\b\b\b\b\b\b\b\b\b\b\b\b\b\b\b\b\b\b\b\b\b\b\b\b\b\b\b\b\b\b\b\b\b\b\b\b\b\b\b\b\b\b\b\b\b\b\b\b\b\b\b\b\b\b\b\b\b\b\b\b\b\b\b\b\b\b\b\b\b\b\b\b\b\b\r\u001b[1m497/497\u001b[0m \u001b[32m━━━━━━━━━━━━━━━━━━━━\u001b[0m\u001b[37m\u001b[0m \u001b[1m10s\u001b[0m 20ms/step - accuracy: 0.8869 - auc: 0.8372 - loss: 0.0850 - val_accuracy: 0.8869 - val_auc: 0.8644 - val_loss: 0.0828\n"
          ]
        },
        {
          "output_type": "stream",
          "name": "stderr",
          "text": [
            "WARNING:absl:Compiled the loaded model, but the compiled metrics have yet to be built. `model.compile_metrics` will be empty until you train or evaluate the model.\n",
            "WARNING:absl:You are saving your model as an HDF5 file via `model.save()` or `keras.saving.save_model(model)`. This file format is considered legacy. We recommend using instead the native Keras format, e.g. `model.save('my_model.keras')` or `keras.saving.save_model(model, 'my_model.keras')`. \n"
          ]
        },
        {
          "output_type": "stream",
          "name": "stdout",
          "text": [
            "Model saved to Google Drive: /content/drive/MyDrive/DVSTraining/results/mlpf_model_final.h5\n"
          ]
        }
      ]
    },
    {
      "cell_type": "code",
      "source": [
        "# After training is complete, calculate AUC and plot ROC curve\n",
        "def evaluate_model_auc(model, matched_dataset, batch_size=128):\n",
        "    \"\"\"\n",
        "    Evaluate model AUC and plot ROC curve.\n",
        "    \"\"\"\n",
        "    from sklearn.metrics import roc_curve, auc, roc_auc_score\n",
        "    import matplotlib.pyplot as plt\n",
        "\n",
        "    # Create evaluation dataset\n",
        "    # Use all data for simplicity, or you could use just validation data\n",
        "    eval_generator = ti_image_generator(\n",
        "        dataset=matched_dataset,\n",
        "        batch_size=batch_size,\n",
        "        shuffle=False,\n",
        "        num_workers=4\n",
        "    )\n",
        "\n",
        "    # Get predictions and true labels\n",
        "    all_predictions = []\n",
        "    all_labels = []\n",
        "\n",
        "    for i in range(len(eval_generator)):\n",
        "        X_batch, y_batch = eval_generator[i]\n",
        "        predictions = model.predict(X_batch, verbose=0)\n",
        "        all_predictions.extend(predictions.flatten())\n",
        "        all_labels.extend(y_batch.flatten())\n",
        "\n",
        "    # Convert to numpy arrays\n",
        "    all_predictions = np.array(all_predictions)\n",
        "    all_labels = np.array(all_labels)\n",
        "\n",
        "    # Calculate AUC\n",
        "    auc_score = roc_auc_score(all_labels, all_predictions)\n",
        "    print(f\"AUC Score: {auc_score:.4f}\")\n",
        "\n",
        "    # Calculate ROC curve\n",
        "    fpr, tpr, thresholds = roc_curve(all_labels, all_predictions)\n",
        "\n",
        "    # Calculate manual ROC curve using paper method\n",
        "    tps = []\n",
        "    fps = []\n",
        "    for threshold in [0.1, 0.3, 0.5, 0.7, 0.9, 0.99]:\n",
        "        y_pred_binary = (all_predictions > threshold).astype(int)\n",
        "        cm = confusion_matrix(all_labels, y_pred_binary)\n",
        "\n",
        "        if cm.shape == (2, 2):  # Perfect shape\n",
        "            tn, fp, fn, tp = cm.ravel()\n",
        "        else:  # Handle edge cases\n",
        "            tn = cm[0, 0] if cm.shape[0] > 0 and cm.shape[1] > 0 else 0\n",
        "            fp = cm[0, 1] if cm.shape[0] > 0 and cm.shape[1] > 1 else 0\n",
        "            fn = cm[1, 0] if cm.shape[0] > 1 and cm.shape[1] > 0 else 0\n",
        "            tp = cm[1, 1] if cm.shape[0] > 1 and cm.shape[1] > 1 else 0\n",
        "\n",
        "        tpr = tp / (tp + fn) if (tp + fn) > 0 else 0\n",
        "        fpr = fp / (fp + tn) if (fp + tn) > 0 else 0\n",
        "        tps.append(tpr)\n",
        "        fps.append(fpr)\n",
        "\n",
        "    # Add boundary points\n",
        "    manual_fps = [0] + fps + [1]\n",
        "    manual_tps = [0] + tps + [1]\n",
        "\n",
        "    # Sort by FPR\n",
        "    sorted_pairs = sorted(zip(manual_fps, manual_tps))\n",
        "    manual_fps = [x for x, y in sorted_pairs]\n",
        "    manual_tps = [y for x, y in sorted_pairs]\n",
        "\n",
        "    # Calculate manual AUC\n",
        "    manual_auc = auc(manual_fps, manual_tps)\n",
        "    print(f\"Manual AUC Score: {manual_auc:.4f}\")\n",
        "\n",
        "    # Plot ROC curve\n",
        "    plt.figure(figsize=(10, 8))\n",
        "    plt.plot(fpr, tpr, color='blue', lw=2, label=f'Standard ROC (AUC = {auc_score:.4f})')\n",
        "    plt.plot(manual_fps, manual_tps, color='red', lw=2, label=f'Paper Method ROC (AUC = {manual_auc:.4f})')\n",
        "    plt.plot([0, 1], [0, 1], color='gray', lw=2, linestyle='--')\n",
        "    plt.xlim([0.0, 1.0])\n",
        "    plt.ylim([0.0, 1.05])\n",
        "    plt.xlabel('False Positive Rate')\n",
        "    plt.ylabel('True Positive Rate')\n",
        "    plt.title('Receiver Operating Characteristic (ROC) Curve')\n",
        "    plt.legend(loc=\"lower right\")\n",
        "    plt.grid(True)\n",
        "\n",
        "    # Save the plot\n",
        "    roc_path = os.path.join(output_dir, \"roc_curve.pdf\")\n",
        "    plt.savefig(roc_path)\n",
        "    plt.show()\n",
        "\n",
        "    return auc_score, manual_auc\n",
        "\n",
        "# Don't forget to import the confusion_matrix\n",
        "from sklearn.metrics import confusion_matrix\n",
        "\n",
        "# Evaluate the trained model\n",
        "print(\"Evaluating model and calculating AUC...\")\n",
        "auc_score, manual_auc = evaluate_model_auc(model, matched_dataset)\n",
        "\n",
        "# Save AUC scores\n",
        "with open(os.path.join(output_dir, \"auc_scores.txt\"), \"w\") as f:\n",
        "    f.write(f\"Standard AUC: {auc_score:.4f}\\n\")\n",
        "    f.write(f\"Manual AUC: {manual_auc:.4f}\\n\")\n",
        "\n",
        "print(f\"Evaluation complete. Results saved to {output_dir}\")"
      ],
      "metadata": {
        "colab": {
          "base_uri": "https://localhost:8080/",
          "height": 789
        },
        "id": "g_vRvzV-_tSe",
        "outputId": "cb241060-b04e-4521-d588-07e91bce100e"
      },
      "execution_count": 50,
      "outputs": [
        {
          "output_type": "stream",
          "name": "stdout",
          "text": [
            "Evaluating model and calculating AUC...\n",
            "AUC Score: 0.8741\n",
            "Manual AUC Score: 0.8315\n"
          ]
        },
        {
          "output_type": "display_data",
          "data": {
            "text/plain": [
              "<Figure size 1000x800 with 1 Axes>"
            ],
            "image/png": "[encoded data removed]"
          },
          "metadata": {}
        },
        {
          "output_type": "stream",
          "name": "stdout",
          "text": [
            "Evaluation complete. Results saved to /content/drive/MyDrive/DVSTraining/results\n"
          ]
        }
      ]
    },
    {
      "cell_type": "code",
      "source": [
        "# Save h52pb.py to your working directory\n",
        "with open('h52pb.py', 'w') as f:\n",
        "    f.write('''from keras.models import load_model\n",
        "import tensorflow as tf\n",
        "import os\n",
        "import os.path as osp\n",
        "from keras import backend as K\n",
        "\n",
        "import sys\n",
        "input_path = ''\n",
        "weight_file = sys.argv[1]\n",
        "\n",
        "output_graph_name = weight_file[:-3] + '.pb'\n",
        "\n",
        "def h5_to_pb(h5_model,output_dir,model_name,out_prefix = \"output_\",log_tensorboard = True):\n",
        "    if osp.exists(output_dir) == False:\n",
        "        os.mkdir(output_dir)\n",
        "    out_nodes = []\n",
        "    for i in range(len(h5_model.outputs)):\n",
        "        out_nodes.append(out_prefix + str(i + 1))\n",
        "        tf.identity(h5_model.output[i],out_prefix + str(i + 1))\n",
        "    sess = K.get_session()\n",
        "    from tensorflow.python.framework import graph_util,graph_io\n",
        "    init_graph = sess.graph.as_graph_def()\n",
        "    main_graph = graph_util.convert_variables_to_constants(sess,init_graph,out_nodes)\n",
        "    graph_io.write_graph(main_graph,output_dir,name = model_name,as_text = False)\n",
        "    if log_tensorboard:\n",
        "        from tensorflow.python.tools import import_pb_to_tensorboard\n",
        "        import_pb_to_tensorboard.import_to_tensorboard(osp.join(output_dir,model_name),output_dir)\n",
        "\n",
        "output_dir = osp.join(os.getcwd(),\"trans_model\")\n",
        "\n",
        "h5_model = load_model(weight_file)\n",
        "h5_to_pb(h5_model,output_dir = output_dir,model_name = output_graph_name)\n",
        "print('model saved')''')\n",
        "\n",
        "# Run the script with your model path\n",
        "!python h52pb.py /content/drive/MyDrive/DVSTraining/results/mlpf_model_final.h5"
      ],
      "metadata": {
        "colab": {
          "base_uri": "https://localhost:8080/"
        },
        "id": "q9OPsSmVAT4j",
        "outputId": "cf03ca18-88ed-4785-a55b-f61a195bb896"
      },
      "execution_count": 55,
      "outputs": [
        {
          "output_type": "stream",
          "name": "stdout",
          "text": [
            "2025-05-14 04:34:44.274825: E external/local_xla/xla/stream_executor/cuda/cuda_fft.cc:477] Unable to register cuFFT factory: Attempting to register factory for plugin cuFFT when one has already been registered\n",
            "WARNING: All log messages before absl::InitializeLog() is called are written to STDERR\n",
            "E0000 00:00:1747197284.295683  168091 cuda_dnn.cc:8310] Unable to register cuDNN factory: Attempting to register factory for plugin cuDNN when one has already been registered\n",
            "E0000 00:00:1747197284.302305  168091 cuda_blas.cc:1418] Unable to register cuBLAS factory: Attempting to register factory for plugin cuBLAS when one has already been registered\n",
            "2025-05-14 04:34:47.978135: W tensorflow/core/common_runtime/gpu/gpu_bfc_allocator.cc:47] Overriding orig_value setting because the TF_FORCE_GPU_ALLOW_GROWTH environment variable is set. Original config value was 0.\n",
            "I0000 00:00:1747197287.978285  168091 gpu_device.cc:2022] Created device /job:localhost/replica:0/task:0/device:GPU:0 with 16664 MB memory:  -> device: 0, name: NVIDIA L4, pci bus id: 0000:00:03.0, compute capability: 8.9\n",
            "WARNING:absl:Compiled the loaded model, but the compiled metrics have yet to be built. `model.compile_metrics` will be empty until you train or evaluate the model.\n",
            "Traceback (most recent call last):\n",
            "  File \"/content/h52pb.py\", line 32, in <module>\n",
            "    h5_to_pb(h5_model,output_dir = output_dir,model_name = output_graph_name)\n",
            "  File \"/content/h52pb.py\", line 19, in h5_to_pb\n",
            "    tf.identity(h5_model.output[i],out_prefix + str(i + 1))\n",
            "  File \"/usr/local/lib/python3.11/dist-packages/tensorflow/python/ops/weak_tensor_ops.py\", line 88, in wrapper\n",
            "    return op(*args, **kwargs)\n",
            "           ^^^^^^^^^^^^^^^^^^^\n",
            "  File \"/usr/local/lib/python3.11/dist-packages/tensorflow/python/util/traceback_utils.py\", line 153, in error_handler\n",
            "    raise e.with_traceback(filtered_tb) from None\n",
            "  File \"/usr/local/lib/python3.11/dist-packages/keras/src/backend/common/keras_tensor.py\", line 138, in __tf_tensor__\n",
            "    raise ValueError(\n",
            "ValueError: A KerasTensor cannot be used as input to a TensorFlow function. A KerasTensor is a symbolic placeholder for a shape and dtype, used when constructing Keras Functional models or Keras Functions. You can only use it as input to a Keras layer or a Keras operation (from the namespaces `keras.layers` and `keras.operations`). You are likely doing something like:\n",
            "\n",
            "```\n",
            "x = Input(...)\n",
            "...\n",
            "tf_fn(x)  # Invalid.\n",
            "```\n",
            "\n",
            "What you should do instead is wrap `tf_fn` in a layer:\n",
            "\n",
            "```\n",
            "class MyLayer(Layer):\n",
            "    def call(self, x):\n",
            "        return tf_fn(x)\n",
            "\n",
            "x = MyLayer()(x)\n",
            "```\n",
            "\n"
          ]
        }
      ]
    },
    {
      "cell_type": "code",
      "source": [
        "!python h52pb.py /content/drive/MyDrive/DVSTraining/results/mlpf_model_final.h5"
      ],
      "metadata": {
        "colab": {
          "base_uri": "https://localhost:8080/"
        },
        "id": "U2wf6yfdAgzb",
        "outputId": "5fb4611e-4de3-40fb-e2fc-b51bc37c49ff"
      },
      "execution_count": 57,
      "outputs": [
        {
          "output_type": "stream",
          "name": "stdout",
          "text": [
            "2025-05-14 04:44:54.121843: E external/local_xla/xla/stream_executor/cuda/cuda_fft.cc:477] Unable to register cuFFT factory: Attempting to register factory for plugin cuFFT when one has already been registered\n",
            "WARNING: All log messages before absl::InitializeLog() is called are written to STDERR\n",
            "E0000 00:00:1747197894.141534  170820 cuda_dnn.cc:8310] Unable to register cuDNN factory: Attempting to register factory for plugin cuDNN when one has already been registered\n",
            "E0000 00:00:1747197894.147578  170820 cuda_blas.cc:1418] Unable to register cuBLAS factory: Attempting to register factory for plugin cuBLAS when one has already been registered\n",
            "2025-05-14 04:44:58.043719: W tensorflow/core/common_runtime/gpu/gpu_bfc_allocator.cc:47] Overriding orig_value setting because the TF_FORCE_GPU_ALLOW_GROWTH environment variable is set. Original config value was 0.\n",
            "I0000 00:00:1747197898.043865  170820 gpu_device.cc:2022] Created device /job:localhost/replica:0/task:0/device:GPU:0 with 16664 MB memory:  -> device: 0, name: NVIDIA L4, pci bus id: 0000:00:03.0, compute capability: 8.9\n",
            "WARNING:absl:Compiled the loaded model, but the compiled metrics have yet to be built. `model.compile_metrics` will be empty until you train or evaluate the model.\n",
            "I0000 00:00:1747197898.991588  170820 devices.cc:67] Number of eligible GPUs (core count >= 8, compute capability >= 0.0): 1\n",
            "WARNING: All log messages before absl::InitializeLog() is called are written to STDERR\n",
            "I0000 00:00:1747197898.991713  170820 single_machine.cc:361] Starting new session\n",
            "I0000 00:00:1747197898.992363  170820 gpu_device.cc:2022] Created device /job:localhost/replica:0/task:0/device:GPU:0 with 16664 MB memory:  -> device: 0, name: NVIDIA L4, pci bus id: 0000:00:03.0, compute capability: 8.9\n",
            "Model saved as /content/drive/MyDrive/DVSTraining/results/mlpf_model_final.pb\n",
            "Model converted successfully to: /content/drive/MyDrive/DVSTraining/results/mlpf_model_final.pb\n"
          ]
        }
      ]
    }
  ]
}